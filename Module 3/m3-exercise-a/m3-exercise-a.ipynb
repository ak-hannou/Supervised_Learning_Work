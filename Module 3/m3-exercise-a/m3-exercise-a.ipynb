{
 "cells": [
  {
   "cell_type": "markdown",
   "metadata": {
    "id": "-cCTF923Ksrg"
   },
   "source": [
    "# Module 3: Exercise A"
   ]
  },
  {
   "cell_type": "code",
   "execution_count": 1,
   "metadata": {
    "id": "r9CpXDAIJF2q"
   },
   "outputs": [],
   "source": [
    "import pandas as pd\n",
    "import numpy as np\n",
    "\n",
    "import matplotlib.pyplot as plt\n",
    "import seaborn as sns\n",
    "%matplotlib inline\n",
    "\n",
    "import warnings\n",
    "warnings.filterwarnings('ignore')"
   ]
  },
  {
   "cell_type": "markdown",
   "metadata": {},
   "source": [
    "## Step 1: Explore Data"
   ]
  },
  {
   "cell_type": "markdown",
   "metadata": {},
   "source": [
    "Let's import and explore the information \"heart_failure.csv\". This data set contains the medical records of patients who had heart failure, collected during their follow-up period, where each patient profile has clinical features. The target variable is death event: if the patient died during the follow-up period. "
   ]
  },
  {
   "cell_type": "code",
   "execution_count": null,
   "metadata": {
    "id": "qS1rEsc-JF2v"
   },
   "outputs": [],
   "source": [
    "heart_fail = ..."
   ]
  },
  {
   "cell_type": "markdown",
   "metadata": {},
   "source": [
    ">__Task 1__\n",
    ">\n",
    ">Generate meta information, the first 10 lines, and last 10 lines of the DataFrame"
   ]
  },
  {
   "cell_type": "code",
   "execution_count": null,
   "metadata": {},
   "outputs": [],
   "source": [
    "# Check meta information about the features\n",
    "..."
   ]
  },
  {
   "cell_type": "code",
   "execution_count": null,
   "metadata": {
    "colab": {
     "base_uri": "https://localhost:8080/",
     "height": 363
    },
    "id": "gqiccqsxJF2w",
    "outputId": "91758515-9372-4480-dfc0-eff5d47b8236"
   },
   "outputs": [],
   "source": [
    "# Check the first 10 lines\n",
    "..."
   ]
  },
  {
   "cell_type": "code",
   "execution_count": null,
   "metadata": {},
   "outputs": [],
   "source": [
    "# Check the last 10 lines\n",
    "..."
   ]
  },
  {
   "cell_type": "markdown",
   "metadata": {},
   "source": [
    "### Check Missing Values"
   ]
  },
  {
   "cell_type": "markdown",
   "metadata": {
    "id": "Et-K0BXzOY7j"
   },
   "source": [
    ">__Task 2__\n",
    ">\n",
    ">Print the number of NA values for each feature (i.e. column)"
   ]
  },
  {
   "cell_type": "code",
   "execution_count": null,
   "metadata": {},
   "outputs": [],
   "source": [
    "..."
   ]
  },
  {
   "cell_type": "markdown",
   "metadata": {},
   "source": [
    "Several columns have missing values of the same count."
   ]
  },
  {
   "cell_type": "markdown",
   "metadata": {},
   "source": [
    ">__Task 3__\n",
    ">\n",
    ">- Check the rows with missing values for column __age__. What is your finding here?\n",
    ">- What do you suggest to handle the missing values in this case? Execute your suggestions. "
   ]
  },
  {
   "cell_type": "code",
   "execution_count": null,
   "metadata": {},
   "outputs": [],
   "source": [
    "..."
   ]
  },
  {
   "cell_type": "markdown",
   "metadata": {},
   "source": [
    ">__Task 4__\n",
    ">\n",
    ">Print the mean, max, and min of all the columns. Check whether there might be any outliers in the dataset."
   ]
  },
  {
   "cell_type": "code",
   "execution_count": null,
   "metadata": {},
   "outputs": [],
   "source": [
    "..."
   ]
  },
  {
   "cell_type": "markdown",
   "metadata": {},
   "source": [
    "### Visualize Data"
   ]
  },
  {
   "cell_type": "markdown",
   "metadata": {},
   "source": [
    ">__Task 5__\n",
    ">\n",
    ">Create a histogram for each feature and set the fig size to `(20,20)`\n",
    ">\n",
    ">You should generate 13 histograms in output."
   ]
  },
  {
   "cell_type": "code",
   "execution_count": null,
   "metadata": {
    "colab": {
     "base_uri": "https://localhost:8080/",
     "height": 942
    },
    "id": "z432pPhwJF24",
    "outputId": "2476da00-02b7-4372-91f3-8f03bcf2f5f7"
   },
   "outputs": [],
   "source": [
    "..."
   ]
  },
  {
   "cell_type": "markdown",
   "metadata": {},
   "source": [
    "We see that the __DEATH_EVENT__ column contains binary observations. "
   ]
  },
  {
   "cell_type": "markdown",
   "metadata": {},
   "source": [
    ">__Task 6__\n",
    ">\n",
    ">- Create a count plot of __DEATH_EVENT__ to better compare two values (i.e., 0 and 1)\n",
    ">- Count the total number of each value in __DEATH_EVENT__"
   ]
  },
  {
   "cell_type": "code",
   "execution_count": null,
   "metadata": {
    "colab": {
     "base_uri": "https://localhost:8080/",
     "height": 279
    },
    "id": "f-OvpVuFJF27",
    "outputId": "ac210d69-31c1-4b1d-c93b-ec2aeab5253e"
   },
   "outputs": [],
   "source": [
    "# Create a count plot\n",
    "..."
   ]
  },
  {
   "cell_type": "code",
   "execution_count": null,
   "metadata": {
    "colab": {
     "base_uri": "https://localhost:8080/"
    },
    "id": "DEwOzB_MJF28",
    "outputId": "6150633b-1869-469d-f447-d6bfaa2f584e"
   },
   "outputs": [],
   "source": [
    "# Count the number of each value\n",
    "..."
   ]
  },
  {
   "cell_type": "markdown",
   "metadata": {},
   "source": [
    "## Step 2: Select Features and Split Data"
   ]
  },
  {
   "cell_type": "markdown",
   "metadata": {
    "id": "OQSA8iC-TNbg"
   },
   "source": [
    ">__Task 7__\n",
    ">\n",
    ">- Assign the __DEATH_EVENT__ column to `y` and the remaining columns to `X`\n",
    ">- Apply `train_test_split` function with a 80(train):20(test) ratio and set `random_state` to 156 for reproducibility. Make sure to apply a stratified splitting.\n",
    ">- Make sure your code generates `X_train`, `X_test`, `y_train`, `y_test` sets"
   ]
  },
  {
   "cell_type": "code",
   "execution_count": null,
   "metadata": {
    "colab": {
     "base_uri": "https://localhost:8080/",
     "height": 143
    },
    "id": "cJoHvXftTKAS",
    "outputId": "ca379888-c16a-4a96-afd6-6299813be048"
   },
   "outputs": [],
   "source": [
    "..."
   ]
  },
  {
   "cell_type": "markdown",
   "metadata": {},
   "source": [
    "## Step 3: Develop and Fit Model"
   ]
  },
  {
   "cell_type": "markdown",
   "metadata": {},
   "source": [
    "We will start by training two different logistic regression models:\n",
    "\n",
    "1. _Univariate_ model takes only __age__ as one input to predict outcome\n",
    "2. _Multivariate_ model takes all inputs to predict outcome"
   ]
  },
  {
   "cell_type": "markdown",
   "metadata": {},
   "source": [
    ">__Task 8__\n",
    ">\n",
    ">- Create a univariate logistic regression model and fit to the training set, using only one input (i.e., __age__)\n",
    ">- Create a multivariate logistic regression model and fit to the training set, using all inputs"
   ]
  },
  {
   "cell_type": "code",
   "execution_count": null,
   "metadata": {},
   "outputs": [],
   "source": [
    "# Create and fit a univariate model\n",
    "..."
   ]
  },
  {
   "cell_type": "code",
   "execution_count": null,
   "metadata": {},
   "outputs": [],
   "source": [
    "# Create and fit a multivariate model\n",
    "..."
   ]
  },
  {
   "cell_type": "markdown",
   "metadata": {},
   "source": [
    "## Step 4: Predict Using the Model"
   ]
  },
  {
   "cell_type": "markdown",
   "metadata": {},
   "source": [
    ">__Task 9__\n",
    ">\n",
    ">- Predict outcomes and print the results of the univariate model. Save the predictions to a variable called `prediction_uni`.\n",
    ">- Repeat the above for multivariate models. Save the predictions to a variable called `prediction_mul`."
   ]
  },
  {
   "cell_type": "code",
   "execution_count": null,
   "metadata": {},
   "outputs": [],
   "source": [
    "# Print outcome predictions using univariate model\n",
    "..."
   ]
  },
  {
   "cell_type": "code",
   "execution_count": null,
   "metadata": {},
   "outputs": [],
   "source": [
    "# Print outcome predictions using multivariate model\n",
    "..."
   ]
  },
  {
   "cell_type": "markdown",
   "metadata": {},
   "source": [
    "## Step 5: Evaluate the Performance"
   ]
  },
  {
   "cell_type": "markdown",
   "metadata": {},
   "source": [
    ">__Task 10__\n",
    ">\n",
    ">Compare the accuracy of both univariate and multivariate models"
   ]
  },
  {
   "cell_type": "code",
   "execution_count": null,
   "metadata": {},
   "outputs": [],
   "source": [
    "..."
   ]
  },
  {
   "cell_type": "markdown",
   "metadata": {},
   "source": [
    "It looks like the multivariate model is more accurate."
   ]
  },
  {
   "cell_type": "markdown",
   "metadata": {},
   "source": [
    "### Compare Performance of Different Solvers"
   ]
  },
  {
   "cell_type": "markdown",
   "metadata": {},
   "source": [
    "Using different solvers will also affect the performance of our models. For example, let's compare model accuracies on a univariate problem, which is to predict __DEATH_EVENT__ using only __age__. We will initiate the model with different solvers, and then train and evaluate each one:"
   ]
  },
  {
   "cell_type": "code",
   "execution_count": null,
   "metadata": {},
   "outputs": [],
   "source": [
    "# Create an accuracies dictionary for all solvers' models\n",
    "...\n",
    "\n",
    "# Select features\n",
    "...\n",
    "\n",
    "# Start a loop that iterates over the solvers\n",
    "...\n",
    "\n",
    "#Print accuracies of all solvers\n",
    "..."
   ]
  },
  {
   "cell_type": "markdown",
   "metadata": {},
   "source": [
    "Next, we can repeat same tasks on a multivariate problem."
   ]
  },
  {
   "cell_type": "markdown",
   "metadata": {
    "id": "ODDSGeD-Tou5"
   },
   "source": [
    ">__Task 11__\n",
    ">\n",
    ">Compare model accuracies on a multivariate problem, which is to predict __DEATH_EVENT__ using all the remaining features"
   ]
  },
  {
   "cell_type": "code",
   "execution_count": null,
   "metadata": {
    "colab": {
     "base_uri": "https://localhost:8080/",
     "height": 206
    },
    "id": "kR-L3Zv-JF2-",
    "outputId": "c6ff0c17-c4da-4abe-a51e-d166c2d08579"
   },
   "outputs": [],
   "source": [
    "..."
   ]
  },
  {
   "cell_type": "markdown",
   "metadata": {},
   "source": [
    "It looks like the default `lbfgs` works decently well. Nonetheless, `liblinear` solve gives the best accuracy. Let's re-train the model with `liblinear` and generate predicted classes."
   ]
  },
  {
   "cell_type": "code",
   "execution_count": null,
   "metadata": {},
   "outputs": [],
   "source": [
    "# Create and fit a multivariate model\n",
    "..."
   ]
  },
  {
   "cell_type": "markdown",
   "metadata": {},
   "source": [
    "### Create Confusion Matrix"
   ]
  },
  {
   "cell_type": "markdown",
   "metadata": {},
   "source": [
    ">__Task 12__\n",
    ">\n",
    ">- Print the confusion matrix between predicted and true values using `confusion_matrix`\n",
    ">- Plot the matrix to make it visually easy to read using `prediction_mul`"
   ]
  },
  {
   "cell_type": "code",
   "execution_count": null,
   "metadata": {
    "colab": {
     "base_uri": "https://localhost:8080/",
     "height": 279
    },
    "id": "PiBWSCOyTw0o",
    "outputId": "49cab455-b4ed-4882-f23c-6c8ed3bdfa21"
   },
   "outputs": [],
   "source": [
    "..."
   ]
  },
  {
   "cell_type": "markdown",
   "metadata": {},
   "source": [
    "The model can predict true positive and true negatives but makes more errors when predicting death event. We will dive into precision and recall to further understand the performance."
   ]
  },
  {
   "cell_type": "markdown",
   "metadata": {},
   "source": [
    "### Caculate Evaluation Metrics"
   ]
  },
  {
   "cell_type": "markdown",
   "metadata": {},
   "source": [
    ">__Task 13__\n",
    ">\n",
    ">Calculate _precision_, _recall (sensitivity)_, _accuracy_, and _F1_ indices for the multi-variable model, using `prediction_mul`"
   ]
  },
  {
   "cell_type": "code",
   "execution_count": null,
   "metadata": {},
   "outputs": [],
   "source": [
    "..."
   ]
  },
  {
   "cell_type": "markdown",
   "metadata": {},
   "source": [
    ">__Task 14__\n",
    ">\n",
    ">Use classification report to show _precision_, _recall (sensitivity)_, _accuracy_, and _F1_ indices \"per class\" using `prediction_mul`\n",
    ">\n",
    ">Do you find the same result with previous task? What is the weighted average precision of the two classes?"
   ]
  },
  {
   "cell_type": "code",
   "execution_count": null,
   "metadata": {},
   "outputs": [],
   "source": [
    "..."
   ]
  },
  {
   "cell_type": "markdown",
   "metadata": {},
   "source": [
    "### Create ROC Curve"
   ]
  },
  {
   "cell_type": "markdown",
   "metadata": {},
   "source": [
    ">__Task 15__\n",
    ">\n",
    ">- Predict the probability for each class and save to a variable called `prediction_mul_prob`\n",
    ">- Plot ROC curve of the multivariate model using `roc_curve` and `RocCurveDisplay`"
   ]
  },
  {
   "cell_type": "code",
   "execution_count": null,
   "metadata": {},
   "outputs": [],
   "source": [
    "..."
   ]
  }
 ],
 "metadata": {
  "colab": {
   "name": "logReg_ solution.ipynb",
   "provenance": []
  },
  "kernelspec": {
   "display_name": "Python 3",
   "language": "python",
   "name": "python3"
  },
  "language_info": {
   "codemirror_mode": {
    "name": "ipython",
    "version": 3
   },
   "file_extension": ".py",
   "mimetype": "text/x-python",
   "name": "python",
   "nbconvert_exporter": "python",
   "pygments_lexer": "ipython3",
   "version": "3.10.4"
  },
  "toc-showcode": true,
  "toc-showtags": true
 },
 "nbformat": 4,
 "nbformat_minor": 4
}
