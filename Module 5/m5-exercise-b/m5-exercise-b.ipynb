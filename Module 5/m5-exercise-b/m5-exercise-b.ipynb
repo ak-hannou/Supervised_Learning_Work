{
 "cells": [
  {
   "cell_type": "markdown",
   "metadata": {
    "id": "e95dde67"
   },
   "source": [
    "# Module 5: Exercise B"
   ]
  },
  {
   "cell_type": "code",
   "execution_count": null,
   "metadata": {
    "id": "9bafe5f0"
   },
   "outputs": [],
   "source": [
    "import warnings\n",
    "# Ignore future warnings\n",
    "warnings.simplefilter(action='ignore', category=FutureWarning)\n",
    "\n",
    "import pandas as pd\n",
    "import numpy as np\n",
    "import matplotlib.pyplot as plt\n",
    "import seaborn as sns\n",
    "%matplotlib inline\n",
    "\n",
    "from sklearn import metrics"
   ]
  },
  {
   "cell_type": "markdown",
   "metadata": {
    "id": "befb2592"
   },
   "source": [
    "## Data Preprocessing"
   ]
  },
  {
   "cell_type": "markdown",
   "metadata": {
    "id": "e647da2a"
   },
   "source": [
    "Import and clean the data set:"
   ]
  },
  {
   "cell_type": "code",
   "execution_count": null,
   "metadata": {
    "id": "4f243369"
   },
   "outputs": [],
   "source": [
    "income = pd.read_csv('income_small.csv')"
   ]
  },
  {
   "cell_type": "markdown",
   "metadata": {
    "id": "e-PRaBG0GyjH"
   },
   "source": [
    ">__Task 1__\n",
    ">\n",
    ">Use one-hot encoding to convert categorical variables to numerical variables: __workclass__, __occupation__, __race__, __sex__\n",
    ">\n",
    ">- Remember to set `drop_first` parameter\n",
    ">- Drop these four categorical columns from the data set\n",
    ">- Print the data head"
   ]
  },
  {
   "cell_type": "code",
   "execution_count": null,
   "metadata": {
    "colab": {
     "base_uri": "https://localhost:8080/",
     "height": 290
    },
    "id": "ocrJ6IqzHAod",
    "outputId": "be675fc5-abb1-4c5d-c4f9-39e3884b8f53"
   },
   "outputs": [],
   "source": [
    "..."
   ]
  },
  {
   "cell_type": "code",
   "execution_count": 9,
   "metadata": {
    "colab": {
     "base_uri": "https://localhost:8080/"
    },
    "id": "sgnYtXpcJQPn",
    "outputId": "9eca4556-46df-4e60-b1b6-8e34c564b327"
   },
   "outputs": [
    {
     "data": {
      "text/plain": [
       "(3718, 33)"
      ]
     },
     "execution_count": 9,
     "metadata": {},
     "output_type": "execute_result"
    }
   ],
   "source": [
    "income.shape"
   ]
  },
  {
   "cell_type": "markdown",
   "metadata": {
    "id": "2733ae14"
   },
   "source": [
    "### Train/Test Split"
   ]
  },
  {
   "cell_type": "markdown",
   "metadata": {
    "id": "R09iiq-iSZOz"
   },
   "source": [
    ">__Task 2__\n",
    ">\n",
    ">- Assign the __income_50k__ to `y` and the remaining columns to `X`\n",
    ">- Apply `train_test_split` function with a 80(train):20(test) ratio and set `random_state` to 144, `stratify` to `y`\n",
    ">- Make sure your function returns `X_train`, `X_test`, `y_train`, `y_test`"
   ]
  },
  {
   "cell_type": "code",
   "execution_count": null,
   "metadata": {
    "id": "6R9_RO6mdZ5f"
   },
   "outputs": [],
   "source": [
    "..."
   ]
  },
  {
   "cell_type": "markdown",
   "metadata": {
    "id": "d84423a1",
    "tags": []
   },
   "source": [
    "## Cross-Validation"
   ]
  },
  {
   "cell_type": "markdown",
   "metadata": {
    "id": "71cb30f8"
   },
   "source": [
    "Let's first compare cross-validation (CV) methods in a Naive Bayes (NB) model."
   ]
  },
  {
   "cell_type": "markdown",
   "metadata": {
    "id": "c0b88588"
   },
   "source": [
    ">__Task 3__\n",
    ">\n",
    ">Initiate a NB classifier and calculate its accuracy scores by CV\n",
    ">\n",
    ">Train and evaluate a NB model with each of these CV methods\n",
    ">\n",
    ">- Initiate a K-Fold CV and calculate its average accuracy\n",
    ">     - set 5 folds, shuffle the data, set `random_state` to 156\n",
    ">- Initiate a Leave-One-Out CV and calculate its average accuracy\n",
    ">- Initiate a Repeated K-Fold CV and calculate its average accuracy\n",
    ">     - set 5 folds, 2 repeats, set `random_state` to 156"
   ]
  },
  {
   "cell_type": "code",
   "execution_count": null,
   "metadata": {
    "colab": {
     "base_uri": "https://localhost:8080/"
    },
    "id": "edc55038",
    "outputId": "f30b3f57-c326-4793-8820-1aefc1a5fab1"
   },
   "outputs": [],
   "source": [
    "..."
   ]
  },
  {
   "cell_type": "markdown",
   "metadata": {
    "id": "d9d047c8"
   },
   "source": [
    "CV methods are used to find the parameter that would yield the best performance on the test set. However, in the Naive Bayes classifier, we did not have such parameter to hypertune.\n",
    "\n",
    "Next, let's fit a K-Nearest Neighbor (KNN) model with CV. You will find the `n_neighbors` parameter works best on the validation set."
   ]
  },
  {
   "cell_type": "markdown",
   "metadata": {
    "id": "f6f0ed7e"
   },
   "source": [
    ">__Task 4__\n",
    ">\n",
    ">Train and evaluate a KNN model with different hyperparameters `n_neighbors`\n",
    ">\n",
    ">- Initiate a KNN classifier with `n_neighbors=i`, where `i` is changed in the loop with a range `(1,6)`\n",
    ">- Calculate the average K-Fold, Leave-One-Out and Repeated K-Fold accuracies of the model\n",
    ">\n",
    ">What is the best `n_neighbors` when using metrics from K-Fold, Leave-One-Out and Repeated K-Fold respectively?"
   ]
  },
  {
   "cell_type": "code",
   "execution_count": null,
   "metadata": {
    "colab": {
     "base_uri": "https://localhost:8080/"
    },
    "id": "66461366",
    "outputId": "47e680b4-28d0-4cce-aded-18f50de50b7f"
   },
   "outputs": [],
   "source": [
    "..."
   ]
  },
  {
   "cell_type": "markdown",
   "metadata": {
    "id": "7b476437"
   },
   "source": [
    ">__Task 5__\n",
    ">\n",
    ">Fit the best number of neighbors for KNN\n",
    ">\n",
    ">- Choose the best performing `n_neighbors` from the above output using K-fold metrics\n",
    ">- Use this `n_neighbors` to fit on train set\n",
    ">- Evaluate performance on test set using `classification_report`\n",
    ">\n",
    ">What is the accuracy of the model? What is the f1-score of class 0 and 1 respectively?"
   ]
  },
  {
   "cell_type": "code",
   "execution_count": null,
   "metadata": {
    "colab": {
     "base_uri": "https://localhost:8080/"
    },
    "id": "e98a7201",
    "outputId": "d03119b9-f7f6-42ca-ce80-441b58ac1bd9"
   },
   "outputs": [],
   "source": [
    "..."
   ]
  },
  {
   "cell_type": "markdown",
   "metadata": {
    "id": "ae7814d5"
   },
   "source": [
    "### Hyperparameter Tuning"
   ]
  },
  {
   "cell_type": "markdown",
   "metadata": {
    "id": "f110e129"
   },
   "source": [
    "The above code searches for the best `n_neighbors` parameter by writing several lines of code. We can use an easier method: `GridSearchCV`."
   ]
  },
  {
   "cell_type": "markdown",
   "metadata": {
    "id": "76a95cbc"
   },
   "source": [
    ">__Task 6__\n",
    ">\n",
    ">Find the best number of neighbors for KNN using `GridSearchCV`\n",
    ">\n",
    ">- Define a range of `n_neighbors` parameter to be searched in `(2,25)`\n",
    ">- Initiate a KNN model without any parameter (as they will be determined by `GridSearchCV`)\n",
    ">- Initiate and fit a `GridSearchCV` with the parameter range and validation method\n",
    ">- Print the best performing parameter and check how well it performs on test set"
   ]
  },
  {
   "cell_type": "code",
   "execution_count": null,
   "metadata": {
    "colab": {
     "base_uri": "https://localhost:8080/"
    },
    "id": "9ddde54d",
    "outputId": "f65a32c4-6627-4557-d214-b4d9112220d8"
   },
   "outputs": [],
   "source": [
    "..."
   ]
  },
  {
   "cell_type": "markdown",
   "metadata": {
    "id": "1c932dda"
   },
   "source": [
    "Recall that the KNN model calculates the predictions using the closest nodes, and it can either calculate the average of *k* closest data (`uniform`) or gives more weight to the closer data (`distance`)."
   ]
  },
  {
   "cell_type": "markdown",
   "metadata": {
    "id": "c4281aa8"
   },
   "source": [
    ">__Task 7__\n",
    ">\n",
    ">Find the best performing `weights` parameter in addition to `n_neighbors`\n",
    ">\n",
    ">- Repeat the same steps as the previous task, but extend the parameters dictionary with `'weights': ['uniform', 'distance']` in the first step\n",
    ">- Set `return_train_score=True` to have the accuracy in the returned results"
   ]
  },
  {
   "cell_type": "code",
   "execution_count": null,
   "metadata": {
    "colab": {
     "base_uri": "https://localhost:8080/"
    },
    "id": "0b193ac0",
    "outputId": "e51d591e-9a4a-4b7e-d378-8611f7f7e7f3"
   },
   "outputs": [],
   "source": [
    "..."
   ]
  },
  {
   "cell_type": "markdown",
   "metadata": {
    "id": "25fd3d55"
   },
   "source": [
    ">__Task 8__\n",
    ">\n",
    "> Check `cv_results_` and visualize the `mean_train_score` and `mean_test_score` with different hyperparameter combinations\n",
    ">\n",
    "> - Save `params` from `cv_results_` as a list of strings\n",
    "> - Initiate a plot object and plot two lines, one for training set accuracy `mean_train_score` and the other line for validation set accuracy score `mean_test_score`\n",
    "> - Set xlabel as `Parameter Combinations` and ylabel as `Accuracy` and add legend to the graph\n",
    ">\n",
    ">Do you find the same result as the returned `best_params_`?"
   ]
  },
  {
   "cell_type": "code",
   "execution_count": null,
   "metadata": {
    "colab": {
     "base_uri": "https://localhost:8080/",
     "height": 607
    },
    "id": "86xchByi_END",
    "outputId": "3ff55034-7218-43bc-8692-f4b9abe0093e"
   },
   "outputs": [],
   "source": [
    "..."
   ]
  },
  {
   "cell_type": "markdown",
   "metadata": {
    "id": "70cbe606"
   },
   "source": [
    "---"
   ]
  },
  {
   "cell_type": "markdown",
   "metadata": {
    "id": "cb37ce33"
   },
   "source": [
    "## Bootstrapping"
   ]
  },
  {
   "cell_type": "markdown",
   "metadata": {
    "id": "9912f184"
   },
   "source": [
    "Now, let's practice bootstrap methods using a logistic regression model. Our goal is to measure the accuracy of the logistic regression model and to find the confidence intervals for its performance. So, we gather the accuracy of each prediction on bootstrap samples in a list by appending the outcome of each iteration."
   ]
  },
  {
   "cell_type": "markdown",
   "metadata": {
    "id": "5da06b5e"
   },
   "source": [
    ">__Task 9__\n",
    ">\n",
    ">- Fit a logistic regression model with `liblinear` and set `random_state` to 96\n",
    ">- Create samples with bootstrap with 1000 iterations\n",
    ">- Use the trained model to predict on the bootstrapped set\n",
    ">- Calculate the accuracy on bootstrapped set\n",
    ">- Append the accuracy scores to the `accuracy` set"
   ]
  },
  {
   "cell_type": "code",
   "execution_count": null,
   "metadata": {
    "id": "32b742bc"
   },
   "outputs": [],
   "source": [
    "..."
   ]
  },
  {
   "cell_type": "markdown",
   "metadata": {
    "id": "70b96757"
   },
   "source": [
    "We can then visualize the distribution of accuracies."
   ]
  },
  {
   "cell_type": "markdown",
   "metadata": {
    "id": "2d22c298"
   },
   "source": [
    ">__Task 10__\n",
    ">\n",
    ">- Print out mean and variance of the result\n",
    ">- Plot the distribution of `accuracy` using a KDE plot from seaborn"
   ]
  },
  {
   "cell_type": "code",
   "execution_count": null,
   "metadata": {
    "colab": {
     "base_uri": "https://localhost:8080/"
    },
    "id": "O7VNJNndEOcp",
    "outputId": "a04777ef-0469-444b-f3e7-763829b8bbb2"
   },
   "outputs": [],
   "source": [
    "..."
   ]
  },
  {
   "cell_type": "markdown",
   "metadata": {
    "id": "82f80db0"
   },
   "source": [
    "### Confidence Intervals"
   ]
  },
  {
   "cell_type": "markdown",
   "metadata": {
    "id": "9692fb5a"
   },
   "source": [
    ">__Task 11__\n",
    ">\n",
    ">Find the 95% confidence interval of `accuracy`\n",
    ">\n",
    ">- Print the median\n",
    ">- Print the lower and upper bounds"
   ]
  },
  {
   "cell_type": "code",
   "execution_count": null,
   "metadata": {
    "colab": {
     "base_uri": "https://localhost:8080/"
    },
    "id": "bccc4f92",
    "outputId": "414cb65e-192a-448f-be1e-354493351075"
   },
   "outputs": [],
   "source": [
    "..."
   ]
  },
  {
   "cell_type": "markdown",
   "metadata": {
    "id": "d50e731b"
   },
   "source": [
    ">__Task 12__\n",
    ">\n",
    ">Plot the confidence interval to the distribution of accuracy"
   ]
  },
  {
   "cell_type": "code",
   "execution_count": null,
   "metadata": {
    "colab": {
     "base_uri": "https://localhost:8080/",
     "height": 489
    },
    "id": "8e995cf9",
    "outputId": "c8cca365-3d8f-4cd2-c238-ee1eb5db766b"
   },
   "outputs": [],
   "source": [
    "..."
   ]
  }
 ],
 "metadata": {
  "colab": {
   "provenance": []
  },
  "kernelspec": {
   "display_name": "Python 3",
   "language": "python",
   "name": "python3"
  },
  "language_info": {
   "codemirror_mode": {
    "name": "ipython",
    "version": 3
   },
   "file_extension": ".py",
   "mimetype": "text/x-python",
   "name": "python",
   "nbconvert_exporter": "python",
   "pygments_lexer": "ipython3",
   "version": "3.10.4"
  }
 },
 "nbformat": 4,
 "nbformat_minor": 4
}
