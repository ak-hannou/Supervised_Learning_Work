{
 "cells": [
  {
   "cell_type": "markdown",
   "id": "43e155fe",
   "metadata": {},
   "source": [
    "# Module 8: Exercise A"
   ]
  },
  {
   "cell_type": "markdown",
   "id": "07627acd-87b6-4a44-9bab-a38b58af3185",
   "metadata": {},
   "source": [
    "In this exercise, you will practice support vector machines (SVMs) for classification."
   ]
  },
  {
   "cell_type": "code",
   "execution_count": 1,
   "id": "504e4a2d",
   "metadata": {},
   "outputs": [],
   "source": [
    "import pandas as pd\n",
    "import numpy as np\n",
    "import matplotlib.pyplot as plt\n",
    "import seaborn as sns\n",
    "%matplotlib inline\n",
    "\n",
    "from sklearn import metrics\n",
    "\n",
    "import warnings\n",
    "warnings.filterwarnings(\"ignore\")"
   ]
  },
  {
   "cell_type": "markdown",
   "id": "c26d0858-979d-431c-b84d-d6f9e3ae9b8a",
   "metadata": {},
   "source": [
    "## Data Preprocessing"
   ]
  },
  {
   "cell_type": "markdown",
   "id": "081a431e",
   "metadata": {},
   "source": [
    "We will use a cirrhosis data set. The target variable is __Stage__: histologic stage of disease (1, 2, 3, or 4)."
   ]
  },
  {
   "cell_type": "code",
   "execution_count": 2,
   "id": "6a13fd3a",
   "metadata": {},
   "outputs": [
    {
     "name": "stdout",
     "output_type": "stream",
     "text": [
      "<class 'pandas.core.frame.DataFrame'>\n",
      "RangeIndex: 418 entries, 0 to 417\n",
      "Data columns (total 20 columns):\n",
      " #   Column         Non-Null Count  Dtype  \n",
      "---  ------         --------------  -----  \n",
      " 0   ID             418 non-null    int64  \n",
      " 1   N_Days         418 non-null    int64  \n",
      " 2   Status         418 non-null    object \n",
      " 3   Drug           312 non-null    object \n",
      " 4   Age            418 non-null    int64  \n",
      " 5   Sex            418 non-null    object \n",
      " 6   Ascites        312 non-null    object \n",
      " 7   Hepatomegaly   312 non-null    object \n",
      " 8   Spiders        312 non-null    object \n",
      " 9   Edema          418 non-null    object \n",
      " 10  Bilirubin      418 non-null    float64\n",
      " 11  Cholesterol    284 non-null    float64\n",
      " 12  Albumin        418 non-null    float64\n",
      " 13  Copper         310 non-null    float64\n",
      " 14  Alk_Phos       312 non-null    float64\n",
      " 15  SGOT           312 non-null    float64\n",
      " 16  Tryglicerides  282 non-null    float64\n",
      " 17  Platelets      407 non-null    float64\n",
      " 18  Prothrombin    416 non-null    float64\n",
      " 19  Stage          412 non-null    float64\n",
      "dtypes: float64(10), int64(3), object(7)\n",
      "memory usage: 65.4+ KB\n"
     ]
    }
   ],
   "source": [
    "cirr = pd.read_csv('cirrhosis.csv')\n",
    "cirr.info()"
   ]
  },
  {
   "cell_type": "markdown",
   "id": "9ff93447",
   "metadata": {},
   "source": [
    ">__Task 1__\n",
    ">\n",
    ">Count the number of NAs for each column"
   ]
  },
  {
   "cell_type": "code",
   "execution_count": null,
   "id": "3310a0b9",
   "metadata": {},
   "outputs": [],
   "source": [
    "..."
   ]
  },
  {
   "cell_type": "markdown",
   "id": "92462f25-d7bb-48e7-a5ac-439bb96d33dc",
   "metadata": {},
   "source": [
    ">__Task 2__\n",
    ">\n",
    ">Visualize the distributon of __Stage__ with any missing values vs. without missing values\n",
    ">\n",
    ">Hint: use `isnull().any(axis=1)` and draw histogram"
   ]
  },
  {
   "cell_type": "code",
   "execution_count": null,
   "id": "416933ff",
   "metadata": {},
   "outputs": [],
   "source": [
    "..."
   ]
  },
  {
   "cell_type": "markdown",
   "id": "0fc7d4f1-fb53-442f-a671-17e33fe2ef6f",
   "metadata": {},
   "source": [
    ">__Task 3__\n",
    ">\n",
    ">Drop the missing values"
   ]
  },
  {
   "cell_type": "code",
   "execution_count": null,
   "id": "452fd23a",
   "metadata": {},
   "outputs": [],
   "source": [
    "..."
   ]
  },
  {
   "cell_type": "markdown",
   "id": "e92c3fa6-3241-4746-beff-f0472abd7137",
   "metadata": {},
   "source": [
    "The dataset has many categorical variables. Let's start with binary categorical variables."
   ]
  },
  {
   "cell_type": "markdown",
   "id": "7bfb5608",
   "metadata": {},
   "source": [
    ">__Task 4__\n",
    ">\n",
    ">Convert the following columns to numeric labels: __Sex__, __Ascites__, __Hepatomegaly__, __Spiders__, __Drug__\n",
    ">\n",
    ">- Check the unique values of these columns \n",
    ">- Map these columns to binary numerical values"
   ]
  },
  {
   "cell_type": "code",
   "execution_count": null,
   "id": "e73e3bb9",
   "metadata": {},
   "outputs": [],
   "source": [
    "..."
   ]
  },
  {
   "cell_type": "markdown",
   "id": "d6e1bec8-5aae-4f3c-8642-cc9284cf5b94",
   "metadata": {},
   "source": [
    "Next, let's deal with multi-categorical variables."
   ]
  },
  {
   "cell_type": "markdown",
   "id": "0c177988",
   "metadata": {},
   "source": [
    ">__Task 5__\n",
    ">\n",
    ">Convert the following columns to numeric labels: __Status__, __Edema__\n",
    ">\n",
    ">- Check the unique values of these columns \n",
    ">- Apply one-hot encoding (dummy variables) and remember to drop the original ones after encoding"
   ]
  },
  {
   "cell_type": "code",
   "execution_count": null,
   "id": "54670617",
   "metadata": {},
   "outputs": [],
   "source": [
    "..."
   ]
  },
  {
   "cell_type": "markdown",
   "id": "a40c8bc7",
   "metadata": {
    "tags": []
   },
   "source": [
    "### Train/Test Split"
   ]
  },
  {
   "cell_type": "markdown",
   "id": "a837ff83-25c2-4789-80cb-0609736f3cb5",
   "metadata": {},
   "source": [
    ">__Task 6__\n",
    ">\n",
    ">- Assign the __Stage__ to `y`, and the rest (except __ID__) to `X`\n",
    ">- Split with a 80(train):20(test) ratio and set 89 randomness\n",
    ">- Remember to use stratified split\n",
    ">- Make sure your function returns `X_train`, `X_test`, `y_train`, `y_test`"
   ]
  },
  {
   "cell_type": "code",
   "execution_count": null,
   "id": "d02a2dcc",
   "metadata": {},
   "outputs": [],
   "source": [
    "..."
   ]
  },
  {
   "cell_type": "markdown",
   "id": "d3a3a6c3-de6b-490d-a80b-3c20a3bb16bc",
   "metadata": {},
   "source": [
    "## Logistic Regression and Naive Bayes Models"
   ]
  },
  {
   "cell_type": "markdown",
   "id": "30ddc350",
   "metadata": {},
   "source": [
    ">__Task 7__\n",
    ">\n",
    ">Implement logistic regression and Naive Bayes models and evaluate the performance\n",
    ">\n",
    ">- Fit both models with default parameters\n",
    ">- Calculate the accuracy and confusion matrix of both predictions"
   ]
  },
  {
   "cell_type": "code",
   "execution_count": null,
   "id": "d8cd5ce1",
   "metadata": {},
   "outputs": [],
   "source": [
    "# logistic regression\n",
    "..."
   ]
  },
  {
   "cell_type": "code",
   "execution_count": null,
   "id": "52bc9a5f",
   "metadata": {},
   "outputs": [],
   "source": [
    "# Naive Bayes\n",
    "..."
   ]
  },
  {
   "cell_type": "markdown",
   "id": "dd8bfb9f",
   "metadata": {},
   "source": [
    "## SVMs and Kernels for Classification"
   ]
  },
  {
   "cell_type": "markdown",
   "id": "21cf6214",
   "metadata": {},
   "source": [
    ">__Task 8__\n",
    ">\n",
    ">Implement a linear SVC model with default parameters\n",
    ">\n",
    ">- Fit a linear support vector classification model\n",
    ">- Calculate the accuracy and confusion matrix"
   ]
  },
  {
   "cell_type": "code",
   "execution_count": null,
   "id": "2115faa5",
   "metadata": {},
   "outputs": [],
   "source": [
    "..."
   ]
  },
  {
   "cell_type": "markdown",
   "id": "cc80d721",
   "metadata": {},
   "source": [
    ">__Task 9__\n",
    ">\n",
    ">Implement a SVC model with kernels: linear, polynomial, radial basis function (RBF)\n",
    ">\n",
    ">- Fit the model with each kernel using default parameters\n",
    ">- Calculate the accuracy and confusion matrix"
   ]
  },
  {
   "cell_type": "code",
   "execution_count": null,
   "id": "9aa3be5c-9998-4d00-963e-9d3801890473",
   "metadata": {},
   "outputs": [],
   "source": [
    "# linear kernel\n",
    "..."
   ]
  },
  {
   "cell_type": "code",
   "execution_count": null,
   "id": "9666b5c3",
   "metadata": {},
   "outputs": [],
   "source": [
    "# poly kernel\n",
    "..."
   ]
  },
  {
   "cell_type": "code",
   "execution_count": null,
   "id": "313dfd01",
   "metadata": {},
   "outputs": [],
   "source": [
    "# rbf kernel\n",
    "..."
   ]
  },
  {
   "cell_type": "markdown",
   "id": "59dc1343-876a-4b4f-aa1a-0bec9e73ae63",
   "metadata": {},
   "source": [
    "## Multiclass Classification"
   ]
  },
  {
   "cell_type": "markdown",
   "id": "6493e7b2",
   "metadata": {},
   "source": [
    "### One-vs-The-Rest (OvR)"
   ]
  },
  {
   "cell_type": "markdown",
   "id": "ff99db53-3480-4b5f-905d-10e69649fc95",
   "metadata": {},
   "source": [
    ">__Task 10__\n",
    ">\n",
    ">Implement OvR method to SVMs\n",
    ">\n",
    ">- Fit a OvR classifier to the previous linear SVC model and SVC models with polynomial and RBF kernels\n",
    ">- Calculate accuracy score and confusion matrix"
   ]
  },
  {
   "cell_type": "code",
   "execution_count": null,
   "id": "de8e2868",
   "metadata": {},
   "outputs": [],
   "source": [
    "# linear SVC model\n",
    "..."
   ]
  },
  {
   "cell_type": "code",
   "execution_count": null,
   "id": "1f14f07a",
   "metadata": {},
   "outputs": [],
   "source": [
    "# SVC model with poly kernel\n",
    "..."
   ]
  },
  {
   "cell_type": "code",
   "execution_count": null,
   "id": "dd5bec3e",
   "metadata": {},
   "outputs": [],
   "source": [
    "# SVC model with rbf kernel\n",
    "..."
   ]
  },
  {
   "cell_type": "markdown",
   "id": "57028d27-993a-4252-b05c-7d16b6ed7cb7",
   "metadata": {},
   "source": [
    "### One-vs-One (OvO)"
   ]
  },
  {
   "cell_type": "markdown",
   "id": "9cbb185e-cd2b-485c-81f3-b2c3bc23799a",
   "metadata": {},
   "source": [
    ">__Task 11__\n",
    ">\n",
    ">Implement OvO method to SVMs\n",
    ">\n",
    ">- Fit a OvO classifier to the previous linear SVC model and SVC models with polynomial and RBF kernels\n",
    ">- Calculate accuracy score and confusion matrix"
   ]
  },
  {
   "cell_type": "code",
   "execution_count": null,
   "id": "bf1368f9",
   "metadata": {},
   "outputs": [],
   "source": [
    "# linear SVC model\n",
    "..."
   ]
  },
  {
   "cell_type": "code",
   "execution_count": null,
   "id": "93daa8a1",
   "metadata": {},
   "outputs": [],
   "source": [
    "# SVC model with poly kernel\n",
    "..."
   ]
  },
  {
   "cell_type": "code",
   "execution_count": null,
   "id": "b183fa48",
   "metadata": {},
   "outputs": [],
   "source": [
    "# SVC model with rbf kernel\n",
    "..."
   ]
  }
 ],
 "metadata": {
  "kernelspec": {
   "display_name": "Python 3",
   "language": "python",
   "name": "python3"
  },
  "language_info": {
   "codemirror_mode": {
    "name": "ipython",
    "version": 3
   },
   "file_extension": ".py",
   "mimetype": "text/x-python",
   "name": "python",
   "nbconvert_exporter": "python",
   "pygments_lexer": "ipython3",
   "version": "3.10.4"
  }
 },
 "nbformat": 4,
 "nbformat_minor": 5
}
