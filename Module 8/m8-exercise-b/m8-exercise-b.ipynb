{
 "cells": [
  {
   "cell_type": "markdown",
   "id": "43e155fe",
   "metadata": {},
   "source": [
    "# Module 8: Exercise B"
   ]
  },
  {
   "cell_type": "markdown",
   "id": "f779452d-dfbf-4403-9f83-89bc75e2b4c9",
   "metadata": {},
   "source": [
    "In this exercise, you will practice support vector machines (SVMs) for regression."
   ]
  },
  {
   "cell_type": "code",
   "execution_count": 1,
   "id": "504e4a2d",
   "metadata": {},
   "outputs": [],
   "source": [
    "import pandas as pd\n",
    "import numpy as np\n",
    "import matplotlib.pyplot as plt\n",
    "import seaborn as sns\n",
    "%matplotlib inline\n",
    "\n",
    "from sklearn import metrics\n",
    "\n",
    "import warnings\n",
    "warnings.filterwarnings(\"ignore\")"
   ]
  },
  {
   "cell_type": "markdown",
   "id": "b849825f-a179-42c1-98f4-40a491a283d4",
   "metadata": {},
   "source": [
    "## Data Preprocessing"
   ]
  },
  {
   "cell_type": "markdown",
   "id": "0b34e70f-627f-49e4-917e-1fcaa7b7401b",
   "metadata": {},
   "source": [
    "We will use a car fuel data set to predict __mpg__ (mileage per gallon). Note that the data set should have all numerical values except __car name__."
   ]
  },
  {
   "cell_type": "code",
   "execution_count": 2,
   "id": "7f33714b",
   "metadata": {},
   "outputs": [
    {
     "name": "stdout",
     "output_type": "stream",
     "text": [
      "<class 'pandas.core.frame.DataFrame'>\n",
      "RangeIndex: 398 entries, 0 to 397\n",
      "Data columns (total 9 columns):\n",
      " #   Column        Non-Null Count  Dtype  \n",
      "---  ------        --------------  -----  \n",
      " 0   mpg           398 non-null    float64\n",
      " 1   cylinders     398 non-null    int64  \n",
      " 2   displacement  398 non-null    float64\n",
      " 3   horsepower    398 non-null    object \n",
      " 4   weight        398 non-null    int64  \n",
      " 5   acceleration  398 non-null    float64\n",
      " 6   model year    398 non-null    int64  \n",
      " 7   origin        398 non-null    int64  \n",
      " 8   car name      398 non-null    object \n",
      "dtypes: float64(3), int64(4), object(2)\n",
      "memory usage: 28.1+ KB\n"
     ]
    }
   ],
   "source": [
    "mpg = pd.read_csv('car_mpg.csv')\n",
    "mpg.info()"
   ]
  },
  {
   "cell_type": "markdown",
   "id": "62e2cafe",
   "metadata": {},
   "source": [
    ">__Task 1__\n",
    ">\n",
    ">Convert the __horsepower__ column to numeric\n",
    ">\n",
    ">- Find out __horsepower__ with unusual values `?`\n",
    ">- Identify non-numeric values, using `.to_numeric()` with `errors='coerce` argument\n",
    ">- Drop the rows where values are not convertible (they are missing values after converted to numerical values)"
   ]
  },
  {
   "cell_type": "code",
   "execution_count": null,
   "id": "6f930692",
   "metadata": {},
   "outputs": [],
   "source": [
    "..."
   ]
  },
  {
   "cell_type": "markdown",
   "id": "effad2e5",
   "metadata": {},
   "source": [
    ">__Task 2__\n",
    ">\n",
    ">Find outliers and suggest how you would handle them\n",
    ">\n",
    ">- Check the quantiles of columns\n",
    ">- Use \"mean+-2\\*sd\" rule to check outliers in weight and display the rows with outliers"
   ]
  },
  {
   "cell_type": "code",
   "execution_count": null,
   "id": "cecaaa49",
   "metadata": {},
   "outputs": [],
   "source": [
    "..."
   ]
  },
  {
   "cell_type": "markdown",
   "id": "631336b4",
   "metadata": {},
   "source": [
    ">__Task 3__\n",
    ">\n",
    ">Visualize the distributon of __mpg__ given different __origin__ in one graph\n",
    ">\n",
    ">Hint: Seaborn can create a histogram for groups with `hue` parameter"
   ]
  },
  {
   "cell_type": "code",
   "execution_count": null,
   "id": "45d66bf3",
   "metadata": {},
   "outputs": [],
   "source": [
    "..."
   ]
  },
  {
   "cell_type": "markdown",
   "id": "a40c8bc7",
   "metadata": {
    "tags": []
   },
   "source": [
    "### Train/Test Split"
   ]
  },
  {
   "cell_type": "markdown",
   "id": "ff64be28",
   "metadata": {},
   "source": [
    ">__Task 4__\n",
    ">\n",
    ">- Assign the __mpg__ to `y` and the rest (except __car name__) to `X`\n",
    ">- Split with a 80(train):20(test) ratio and set 156 randomness\n",
    ">- Make sure your function returns `X_train`, `X_test`, `y_train`, `y_test`"
   ]
  },
  {
   "cell_type": "code",
   "execution_count": null,
   "id": "de3880bb",
   "metadata": {},
   "outputs": [],
   "source": [
    "..."
   ]
  },
  {
   "cell_type": "markdown",
   "id": "57c352fb-84eb-4903-8e9a-2c32ade36e42",
   "metadata": {},
   "source": [
    "## Linear Regression Model "
   ]
  },
  {
   "cell_type": "markdown",
   "id": "8621fd18",
   "metadata": {},
   "source": [
    ">__Task 5__\n",
    ">\n",
    ">Implement a linear regression model and evaluate the performance\n",
    ">\n",
    ">- Fit the model with default parameters\n",
    ">- Calculate the mean squared error (MSE) and R-squared of predictions"
   ]
  },
  {
   "cell_type": "code",
   "execution_count": null,
   "id": "9e6b0bff",
   "metadata": {},
   "outputs": [],
   "source": [
    "..."
   ]
  },
  {
   "cell_type": "markdown",
   "id": "60e1d74c",
   "metadata": {},
   "source": [
    "## SVMs and Kernels for Regression"
   ]
  },
  {
   "cell_type": "markdown",
   "id": "6adc11f7",
   "metadata": {},
   "source": [
    ">__Task 6__\n",
    ">\n",
    ">Implement a linear SVR model with default parameters\n",
    ">\n",
    ">- Fit a linear support vector regression model with 10 randomness\n",
    ">- Calculate the MSE and R-squared"
   ]
  },
  {
   "cell_type": "code",
   "execution_count": null,
   "id": "cb7e1890",
   "metadata": {},
   "outputs": [],
   "source": [
    "..."
   ]
  },
  {
   "cell_type": "markdown",
   "id": "ff8afd52",
   "metadata": {},
   "source": [
    ">__Task 7__\n",
    ">\n",
    ">Implement a SVR model with kernels: linear, polynomial, radial basis function (RBF)\n",
    ">\n",
    ">- Fit the model with each kernel using default parameters\n",
    ">- Calculate the MSE and R-squared"
   ]
  },
  {
   "cell_type": "code",
   "execution_count": null,
   "id": "802e70e8",
   "metadata": {},
   "outputs": [],
   "source": [
    "# linear kernel\n",
    "..."
   ]
  },
  {
   "cell_type": "code",
   "execution_count": null,
   "id": "48de24ef",
   "metadata": {},
   "outputs": [],
   "source": [
    "# poly kernel\n",
    "..."
   ]
  },
  {
   "cell_type": "code",
   "execution_count": null,
   "id": "f18b4570",
   "metadata": {},
   "outputs": [],
   "source": [
    "# rbf kernel\n",
    "..."
   ]
  }
 ],
 "metadata": {
  "kernelspec": {
   "display_name": "Python 3",
   "language": "python",
   "name": "python3"
  },
  "language_info": {
   "codemirror_mode": {
    "name": "ipython",
    "version": 3
   },
   "file_extension": ".py",
   "mimetype": "text/x-python",
   "name": "python",
   "nbconvert_exporter": "python",
   "pygments_lexer": "ipython3",
   "version": "3.10.4"
  }
 },
 "nbformat": 4,
 "nbformat_minor": 5
}
