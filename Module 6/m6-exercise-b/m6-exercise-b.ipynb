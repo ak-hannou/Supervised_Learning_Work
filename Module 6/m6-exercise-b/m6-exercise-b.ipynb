{
 "cells": [
  {
   "cell_type": "markdown",
   "id": "6b02327f",
   "metadata": {},
   "source": [
    "# Module 6: Exercise B"
   ]
  },
  {
   "cell_type": "markdown",
   "id": "af9cdbd3-6d0b-4b30-b9a0-48eb78a5188e",
   "metadata": {},
   "source": [
    "In this exercise, you will practice feature selection methods for regression."
   ]
  },
  {
   "cell_type": "code",
   "execution_count": 1,
   "id": "85580c28",
   "metadata": {},
   "outputs": [],
   "source": [
    "import pandas as pd\n",
    "import numpy as np\n",
    "import matplotlib.pyplot as plt\n",
    "%matplotlib inline\n",
    "\n",
    "import warnings\n",
    "warnings.filterwarnings(\"ignore\")\n",
    "\n",
    "from sklearn import metrics"
   ]
  },
  {
   "cell_type": "markdown",
   "id": "fb1c1936-fc0a-4c4d-b205-b66d86490999",
   "metadata": {},
   "source": [
    "## Data Preprocessing"
   ]
  },
  {
   "cell_type": "markdown",
   "id": "2f57644e",
   "metadata": {},
   "source": [
    "We will be using the housing data that consists of sold price and the conditions of the houses.\n",
    "\n",
    "Let's import the \"housing.csv\" file and check the first 5 rows."
   ]
  },
  {
   "cell_type": "code",
   "execution_count": 2,
   "id": "7f33714b",
   "metadata": {},
   "outputs": [
    {
     "data": {
      "text/html": [
       "<div>\n",
       "<style scoped>\n",
       "    .dataframe tbody tr th:only-of-type {\n",
       "        vertical-align: middle;\n",
       "    }\n",
       "\n",
       "    .dataframe tbody tr th {\n",
       "        vertical-align: top;\n",
       "    }\n",
       "\n",
       "    .dataframe thead th {\n",
       "        text-align: right;\n",
       "    }\n",
       "</style>\n",
       "<table border=\"1\" class=\"dataframe\">\n",
       "  <thead>\n",
       "    <tr style=\"text-align: right;\">\n",
       "      <th></th>\n",
       "      <th>date</th>\n",
       "      <th>price</th>\n",
       "      <th>bedrooms</th>\n",
       "      <th>bathrooms</th>\n",
       "      <th>sqft_living</th>\n",
       "      <th>sqft_lot</th>\n",
       "      <th>floors</th>\n",
       "      <th>waterfront</th>\n",
       "      <th>view</th>\n",
       "      <th>condition</th>\n",
       "      <th>sqft_above</th>\n",
       "      <th>sqft_basement</th>\n",
       "      <th>yr_built</th>\n",
       "      <th>yr_renovated</th>\n",
       "      <th>street</th>\n",
       "      <th>city</th>\n",
       "      <th>statezip</th>\n",
       "      <th>country</th>\n",
       "    </tr>\n",
       "  </thead>\n",
       "  <tbody>\n",
       "    <tr>\n",
       "      <th>0</th>\n",
       "      <td>2014-05-02 00:00:00</td>\n",
       "      <td>313000.0</td>\n",
       "      <td>3.0</td>\n",
       "      <td>1.50</td>\n",
       "      <td>1340</td>\n",
       "      <td>7912</td>\n",
       "      <td>1.5</td>\n",
       "      <td>0</td>\n",
       "      <td>0</td>\n",
       "      <td>3</td>\n",
       "      <td>1340</td>\n",
       "      <td>0</td>\n",
       "      <td>1955</td>\n",
       "      <td>2005</td>\n",
       "      <td>18810 Densmore Ave N</td>\n",
       "      <td>Shoreline</td>\n",
       "      <td>WA 98133</td>\n",
       "      <td>USA</td>\n",
       "    </tr>\n",
       "    <tr>\n",
       "      <th>1</th>\n",
       "      <td>2014-05-02 00:00:00</td>\n",
       "      <td>2384000.0</td>\n",
       "      <td>5.0</td>\n",
       "      <td>2.50</td>\n",
       "      <td>3650</td>\n",
       "      <td>9050</td>\n",
       "      <td>2.0</td>\n",
       "      <td>0</td>\n",
       "      <td>4</td>\n",
       "      <td>5</td>\n",
       "      <td>3370</td>\n",
       "      <td>280</td>\n",
       "      <td>1921</td>\n",
       "      <td>0</td>\n",
       "      <td>709 W Blaine St</td>\n",
       "      <td>Seattle</td>\n",
       "      <td>WA 98119</td>\n",
       "      <td>USA</td>\n",
       "    </tr>\n",
       "    <tr>\n",
       "      <th>2</th>\n",
       "      <td>2014-05-02 00:00:00</td>\n",
       "      <td>342000.0</td>\n",
       "      <td>3.0</td>\n",
       "      <td>2.00</td>\n",
       "      <td>1930</td>\n",
       "      <td>11947</td>\n",
       "      <td>1.0</td>\n",
       "      <td>0</td>\n",
       "      <td>0</td>\n",
       "      <td>4</td>\n",
       "      <td>1930</td>\n",
       "      <td>0</td>\n",
       "      <td>1966</td>\n",
       "      <td>0</td>\n",
       "      <td>26206-26214 143rd Ave SE</td>\n",
       "      <td>Kent</td>\n",
       "      <td>WA 98042</td>\n",
       "      <td>USA</td>\n",
       "    </tr>\n",
       "    <tr>\n",
       "      <th>3</th>\n",
       "      <td>2014-05-02 00:00:00</td>\n",
       "      <td>420000.0</td>\n",
       "      <td>3.0</td>\n",
       "      <td>2.25</td>\n",
       "      <td>2000</td>\n",
       "      <td>8030</td>\n",
       "      <td>1.0</td>\n",
       "      <td>0</td>\n",
       "      <td>0</td>\n",
       "      <td>4</td>\n",
       "      <td>1000</td>\n",
       "      <td>1000</td>\n",
       "      <td>1963</td>\n",
       "      <td>0</td>\n",
       "      <td>857 170th Pl NE</td>\n",
       "      <td>Bellevue</td>\n",
       "      <td>WA 98008</td>\n",
       "      <td>USA</td>\n",
       "    </tr>\n",
       "    <tr>\n",
       "      <th>4</th>\n",
       "      <td>2014-05-02 00:00:00</td>\n",
       "      <td>550000.0</td>\n",
       "      <td>4.0</td>\n",
       "      <td>2.50</td>\n",
       "      <td>1940</td>\n",
       "      <td>10500</td>\n",
       "      <td>1.0</td>\n",
       "      <td>0</td>\n",
       "      <td>0</td>\n",
       "      <td>4</td>\n",
       "      <td>1140</td>\n",
       "      <td>800</td>\n",
       "      <td>1976</td>\n",
       "      <td>1992</td>\n",
       "      <td>9105 170th Ave NE</td>\n",
       "      <td>Redmond</td>\n",
       "      <td>WA 98052</td>\n",
       "      <td>USA</td>\n",
       "    </tr>\n",
       "  </tbody>\n",
       "</table>\n",
       "</div>"
      ],
      "text/plain": [
       "                  date      price  bedrooms  bathrooms  sqft_living  sqft_lot  \\\n",
       "0  2014-05-02 00:00:00   313000.0       3.0       1.50         1340      7912   \n",
       "1  2014-05-02 00:00:00  2384000.0       5.0       2.50         3650      9050   \n",
       "2  2014-05-02 00:00:00   342000.0       3.0       2.00         1930     11947   \n",
       "3  2014-05-02 00:00:00   420000.0       3.0       2.25         2000      8030   \n",
       "4  2014-05-02 00:00:00   550000.0       4.0       2.50         1940     10500   \n",
       "\n",
       "   floors  waterfront  view  condition  sqft_above  sqft_basement  yr_built  \\\n",
       "0     1.5           0     0          3        1340              0      1955   \n",
       "1     2.0           0     4          5        3370            280      1921   \n",
       "2     1.0           0     0          4        1930              0      1966   \n",
       "3     1.0           0     0          4        1000           1000      1963   \n",
       "4     1.0           0     0          4        1140            800      1976   \n",
       "\n",
       "   yr_renovated                    street       city  statezip country  \n",
       "0          2005      18810 Densmore Ave N  Shoreline  WA 98133     USA  \n",
       "1             0           709 W Blaine St    Seattle  WA 98119     USA  \n",
       "2             0  26206-26214 143rd Ave SE       Kent  WA 98042     USA  \n",
       "3             0           857 170th Pl NE   Bellevue  WA 98008     USA  \n",
       "4          1992         9105 170th Ave NE    Redmond  WA 98052     USA  "
      ]
     },
     "execution_count": 2,
     "metadata": {},
     "output_type": "execute_result"
    }
   ],
   "source": [
    "housing_df = pd.read_csv('housing.csv')\n",
    "housing_df.head()"
   ]
  },
  {
   "cell_type": "markdown",
   "id": "38e682f6",
   "metadata": {},
   "source": [
    ">__Task 1__\n",
    ">\n",
    ">Filter out the outliers in the __price__ column\n",
    ">\n",
    ">- Find the min, mean, max, and other quantiles of the column\n",
    ">- Create a mask for values less than `mean-3*sd` and greater than `mean+3*sd`\n",
    ">- Use the mask to filter out the outlier rows. "
   ]
  },
  {
   "cell_type": "code",
   "execution_count": null,
   "id": "1d418f7f",
   "metadata": {},
   "outputs": [],
   "source": [
    "..."
   ]
  },
  {
   "cell_type": "markdown",
   "id": "42aa9e28",
   "metadata": {},
   "source": [
    "### Train/Test Split"
   ]
  },
  {
   "cell_type": "markdown",
   "id": "c61a7304",
   "metadata": {
    "id": "R09iiq-iSZOz"
   },
   "source": [
    ">__Task 2__\n",
    ">\n",
    ">- Assign the `price` column to `y`\n",
    ">- Assign __bedrooms__, __bathrooms__, __sqft_living__, __sqft_lot__, __floors__, __waterfront__, __view__, __condition__, __sqft_above__, __sqft_basement__, __yr_built__, __yr_renovated__ to `X`\n",
    ">- Split data with a 80(train):20(test) ratio and set the random seed to 156."
   ]
  },
  {
   "cell_type": "code",
   "execution_count": null,
   "id": "d3328f1e",
   "metadata": {
    "id": "6R9_RO6mdZ5f"
   },
   "outputs": [],
   "source": [
    "..."
   ]
  },
  {
   "cell_type": "markdown",
   "id": "ec951773",
   "metadata": {},
   "source": [
    "## Filter Methods"
   ]
  },
  {
   "cell_type": "code",
   "execution_count": 7,
   "id": "ec422a4c-5b66-4606-9548-20eb95be7f7f",
   "metadata": {},
   "outputs": [
    {
     "data": {
      "text/plain": [
       "Index(['bedrooms', 'bathrooms', 'sqft_living', 'sqft_lot', 'floors',\n",
       "       'waterfront', 'view', 'condition', 'sqft_above', 'sqft_basement',\n",
       "       'yr_built', 'yr_renovated'],\n",
       "      dtype='object')"
      ]
     },
     "execution_count": 7,
     "metadata": {},
     "output_type": "execute_result"
    }
   ],
   "source": [
    "X_train.columns"
   ]
  },
  {
   "cell_type": "markdown",
   "id": "ef1d13a3-6206-4662-a7de-4f294c5a963d",
   "metadata": {},
   "source": [
    "### Variance Threshold"
   ]
  },
  {
   "cell_type": "markdown",
   "id": "3d3c4301",
   "metadata": {},
   "source": [
    ">__Task 3__\n",
    ">\n",
    ">Apply `VarianceThreshold` with 40% threshold and 90% threshold\n",
    ">\n",
    ">- Print the shape of the resulting data\n",
    ">- Print the selected features\n",
    ">- Print feature names that were dropped"
   ]
  },
  {
   "cell_type": "code",
   "execution_count": null,
   "id": "f33a2a28",
   "metadata": {},
   "outputs": [],
   "source": [
    "# 40% threshold\n",
    "..."
   ]
  },
  {
   "cell_type": "code",
   "execution_count": null,
   "id": "e71c5981",
   "metadata": {},
   "outputs": [],
   "source": [
    "# 90% threshold\n",
    "..."
   ]
  },
  {
   "cell_type": "markdown",
   "id": "d133a6a1",
   "metadata": {},
   "source": [
    "### Univariate Feature Selection (`SelectKBest`)"
   ]
  },
  {
   "cell_type": "markdown",
   "id": "c55445ad-5ec9-440c-a52f-9e7f7363cd21",
   "metadata": {
    "tags": []
   },
   "source": [
    "#### F-Test"
   ]
  },
  {
   "cell_type": "markdown",
   "id": "d7cebe9c",
   "metadata": {},
   "source": [
    ">__Task 4__\n",
    ">\n",
    ">- Select the top 6 features using F-test\n",
    ">- Print the selected features\n",
    ">- Print feature names as well as their scores and and p-values in a DataFrame"
   ]
  },
  {
   "cell_type": "code",
   "execution_count": null,
   "id": "b048c834",
   "metadata": {},
   "outputs": [],
   "source": [
    "..."
   ]
  },
  {
   "cell_type": "markdown",
   "id": "cab24a14",
   "metadata": {},
   "source": [
    "Note that __f-scores are independent of our choice of `k`__.\n",
    "\n",
    "Now, the data set contains 6 features. Once the fit object is created and trained, we can apply it to train or test set using `.transform`:"
   ]
  },
  {
   "cell_type": "code",
   "execution_count": 16,
   "id": "450902f9",
   "metadata": {},
   "outputs": [
    {
     "data": {
      "text/plain": [
       "(3652, 6)"
      ]
     },
     "execution_count": 16,
     "metadata": {},
     "output_type": "execute_result"
    }
   ],
   "source": [
    "X_train_flt = fit.transform(X_train)\n",
    "X_train_flt.shape"
   ]
  },
  {
   "cell_type": "code",
   "execution_count": 17,
   "id": "50d2c279",
   "metadata": {},
   "outputs": [
    {
     "data": {
      "text/plain": [
       "array([[3.00e+00, 2.00e+00, 2.12e+03, 2.00e+00, 0.00e+00, 2.12e+03],\n",
       "       [2.00e+00, 1.75e+00, 1.37e+03, 1.00e+00, 0.00e+00, 1.37e+03],\n",
       "       [3.00e+00, 1.75e+00, 2.07e+03, 1.00e+00, 0.00e+00, 1.42e+03],\n",
       "       [4.00e+00, 3.50e+00, 4.14e+03, 2.00e+00, 0.00e+00, 3.16e+03],\n",
       "       [4.00e+00, 1.00e+00, 1.41e+03, 1.50e+00, 0.00e+00, 1.41e+03]])"
      ]
     },
     "execution_count": 17,
     "metadata": {},
     "output_type": "execute_result"
    }
   ],
   "source": [
    "# Check first 5 rows of the filtered data\n",
    "X_train_flt[:5,:] "
   ]
  },
  {
   "cell_type": "code",
   "execution_count": 18,
   "id": "ac6e3929",
   "metadata": {},
   "outputs": [
    {
     "data": {
      "text/plain": [
       "(914, 6)"
      ]
     },
     "execution_count": 18,
     "metadata": {},
     "output_type": "execute_result"
    }
   ],
   "source": [
    "X_test_flt = fit.transform(X_test)\n",
    "X_test_flt.shape"
   ]
  },
  {
   "cell_type": "markdown",
   "id": "7f1571a8-516d-4431-ae2c-b5e8a79b4455",
   "metadata": {},
   "source": [
    ">__Task 5__\n",
    ">\n",
    ">Select features whose p-value is less than 1% threshold\n",
    ">\n",
    ">- Find the number of features below the threshold\n",
    ">- Set `k` to that number of features\n",
    ">- Apply `SelectKBest` to `X_train` and print its shape\n",
    ">- Print feature names of the resulting data"
   ]
  },
  {
   "cell_type": "code",
   "execution_count": null,
   "id": "cbd78bdb",
   "metadata": {},
   "outputs": [],
   "source": [
    "..."
   ]
  },
  {
   "cell_type": "markdown",
   "id": "643e6826-d87b-4c23-9938-a3db5d2bf6b3",
   "metadata": {},
   "source": [
    "### Select Percentile"
   ]
  },
  {
   "cell_type": "markdown",
   "id": "e5cf132b",
   "metadata": {},
   "source": [
    "An alternative to selecting the best k features is selecting based on the percentile values. If we have 20 features, the best 10% is the top 2, which may not be meaningful. But it can be useful if we have hundreds of features. The method is applied in the same way as `SelectKBest`."
   ]
  },
  {
   "cell_type": "markdown",
   "id": "198a03d3",
   "metadata": {},
   "source": [
    ">__Task 6 (optional)__\n",
    ">\n",
    ">Select 30% most effective features using F-test with `SelectPercentile`\n",
    ">\n",
    ">- Print the shape of the resulting data set\n",
    ">- Print feature names of the resulting data"
   ]
  },
  {
   "cell_type": "code",
   "execution_count": null,
   "id": "97bfadce",
   "metadata": {},
   "outputs": [],
   "source": [
    "..."
   ]
  },
  {
   "cell_type": "markdown",
   "id": "6c16b70f-c8c7-4181-bd27-439dc48e1fb1",
   "metadata": {},
   "source": [
    "---"
   ]
  },
  {
   "cell_type": "markdown",
   "id": "16a8b2cb",
   "metadata": {},
   "source": [
    "## Wrapper Methods"
   ]
  },
  {
   "cell_type": "markdown",
   "id": "128790fa-ca46-4794-b32a-32814f6d3f0f",
   "metadata": {},
   "source": [
    "We will first apply a linear regression to the problem without feature selection."
   ]
  },
  {
   "cell_type": "markdown",
   "id": "6d112490-fc48-436d-845b-9b651c5387d2",
   "metadata": {},
   "source": [
    ">__Task 7__\n",
    ">\n",
    ">Apply a linear regression without feature selection\n",
    ">\n",
    ">- Print the Mean Squared Error (MSE)"
   ]
  },
  {
   "cell_type": "code",
   "execution_count": null,
   "id": "e19802dc",
   "metadata": {},
   "outputs": [],
   "source": [
    "..."
   ]
  },
  {
   "cell_type": "markdown",
   "id": "c20d18fd-0234-465d-8c28-4c2f43a47c3e",
   "metadata": {},
   "source": [
    "### Recursive Feature Elimination (RFE)"
   ]
  },
  {
   "cell_type": "markdown",
   "id": "bd8edbc3-ec54-410b-946c-86f4cf64df7a",
   "metadata": {},
   "source": [
    ">__Task 8__\n",
    ">\n",
    ">Apply RFE to select the best 8 features\n",
    ">\n",
    ">- Print the MSE of linear regression with selected features\n",
    ">- Print feature names of the resulting data"
   ]
  },
  {
   "cell_type": "code",
   "execution_count": null,
   "id": "eec7c2dd",
   "metadata": {},
   "outputs": [],
   "source": [
    "..."
   ]
  },
  {
   "cell_type": "markdown",
   "id": "77d974a5",
   "metadata": {},
   "source": [
    "### RFE with Cross-Validation (RFECV)"
   ]
  },
  {
   "cell_type": "markdown",
   "id": "2c7c1220",
   "metadata": {},
   "source": [
    ">__Task 9__\n",
    ">\n",
    ">Apply RFECV with minimum 5 features and 5 folds\n",
    ">\n",
    ">- Print the MSE of linear regression with selected features\n",
    ">- Print feature names of the resulting data"
   ]
  },
  {
   "cell_type": "code",
   "execution_count": null,
   "id": "921b7dfc",
   "metadata": {},
   "outputs": [],
   "source": [
    "..."
   ]
  },
  {
   "cell_type": "markdown",
   "id": "cc7bad3c-034b-4083-9f7b-f3d63599b100",
   "metadata": {},
   "source": [
    "---"
   ]
  },
  {
   "cell_type": "markdown",
   "id": "87145b77",
   "metadata": {},
   "source": [
    "## Embedded Methods"
   ]
  },
  {
   "cell_type": "markdown",
   "id": "7e2d51d2-b7bc-4d67-97bb-2b5209815593",
   "metadata": {},
   "source": [
    ">__Task 10__\n",
    ">\n",
    ">Print coefficients of the linear regression model without feature selection as a DataFrame"
   ]
  },
  {
   "cell_type": "code",
   "execution_count": null,
   "id": "19e6ba05-f46a-4479-b3f0-4f6566215f2d",
   "metadata": {},
   "outputs": [],
   "source": [
    "..."
   ]
  },
  {
   "cell_type": "markdown",
   "id": "5418f449-57fa-473e-b39b-01f752068ffb",
   "metadata": {},
   "source": [
    "### Lasso (L1) Regularization"
   ]
  },
  {
   "cell_type": "markdown",
   "id": "e8d8f71f",
   "metadata": {},
   "source": [
    ">__Task 11__\n",
    ">\n",
    ">Compare L1 regularization with `alpha=10` and `alpha=10000`\n",
    ">\n",
    ">- Fit a linear lasso model at both `alpha` values\n",
    ">- Print the MSE of the model\n",
    ">- Print model coefficients in a table\n",
    ">\n",
    ">Are there any features should be removed according to the result?"
   ]
  },
  {
   "cell_type": "code",
   "execution_count": null,
   "id": "b3623a4c",
   "metadata": {},
   "outputs": [],
   "source": [
    "# alpha=10\n",
    "..."
   ]
  },
  {
   "cell_type": "code",
   "execution_count": null,
   "id": "34dc1221",
   "metadata": {},
   "outputs": [],
   "source": [
    "# alpha=10000\n",
    "..."
   ]
  },
  {
   "cell_type": "markdown",
   "id": "b9d85484-d0d2-49d3-8a1d-df14d2f366e3",
   "metadata": {},
   "source": [
    "### Ridge (L2) Regularization"
   ]
  },
  {
   "cell_type": "markdown",
   "id": "29a10201",
   "metadata": {},
   "source": [
    ">__Task 12__\n",
    ">\n",
    ">Compare L2 regularization with `alpha=10` and `alpha=10000` (try to use a for loop this time)\n",
    ">\n",
    ">- Fit a linear ridge model at both `alpha` values\n",
    ">- Print the MSE of the model\n",
    ">- Print model coefficients\n",
    ">\n",
    ">What is your finding here compared to lasso regularization?"
   ]
  },
  {
   "cell_type": "code",
   "execution_count": null,
   "id": "b8117174",
   "metadata": {},
   "outputs": [],
   "source": [
    "..."
   ]
  },
  {
   "cell_type": "markdown",
   "id": "02376544-5e59-47ec-a703-0ef0038b4cff",
   "metadata": {},
   "source": [
    "### Comparison Between L1 and L2 Regularizations"
   ]
  },
  {
   "cell_type": "markdown",
   "id": "1ef76e1c",
   "metadata": {},
   "source": [
    ">__Task 13__\n",
    ">\n",
    ">Compare two regularizations with different `alpha` values\n",
    ">\n",
    ">- Try to use a for loop to fit both models with `alpha` value range `(10,10000,1000)`\n",
    ">- Append the `alpha` values and MSE values of both models\n",
    ">- Plot both models with `alpha` in x-axis and `MSE` in y-axis\n",
    ">\n",
    ">Which model and what value of `alpha` do you recommend in this case? "
   ]
  },
  {
   "cell_type": "code",
   "execution_count": null,
   "id": "1ce86f19",
   "metadata": {},
   "outputs": [],
   "source": [
    "..."
   ]
  }
 ],
 "metadata": {
  "kernelspec": {
   "display_name": "Python 3",
   "language": "python",
   "name": "python3"
  },
  "language_info": {
   "codemirror_mode": {
    "name": "ipython",
    "version": 3
   },
   "file_extension": ".py",
   "mimetype": "text/x-python",
   "name": "python",
   "nbconvert_exporter": "python",
   "pygments_lexer": "ipython3",
   "version": "3.10.4"
  }
 },
 "nbformat": 4,
 "nbformat_minor": 5
}
