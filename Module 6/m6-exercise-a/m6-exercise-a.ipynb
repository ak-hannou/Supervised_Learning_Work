{
 "cells": [
  {
   "cell_type": "markdown",
   "id": "6b02327f",
   "metadata": {},
   "source": [
    "# Module 6: Exercise A"
   ]
  },
  {
   "cell_type": "markdown",
   "id": "af9cdbd3-6d0b-4b30-b9a0-48eb78a5188e",
   "metadata": {},
   "source": [
    "In this exercise, you will practice feature selection methods for classification."
   ]
  },
  {
   "cell_type": "code",
   "execution_count": 1,
   "id": "85580c28",
   "metadata": {},
   "outputs": [],
   "source": [
    "import pandas as pd\n",
    "import numpy as np\n",
    "import matplotlib.pyplot as plt\n",
    "%matplotlib inline\n",
    "\n",
    "import warnings\n",
    "warnings.filterwarnings(\"ignore\")\n",
    "\n",
    "from sklearn import metrics"
   ]
  },
  {
   "cell_type": "markdown",
   "id": "fb1c1936-fc0a-4c4d-b205-b66d86490999",
   "metadata": {},
   "source": [
    "## Data Preprocessing"
   ]
  },
  {
   "cell_type": "markdown",
   "id": "2f57644e",
   "metadata": {},
   "source": [
    "We will be using an income data set, which includes demographic data. The target variable indicates whether the income exceeds $50K per year, based on census data.\n",
    "\n",
    "Let's import the \"income_cleaned.csv\" file and check the first 5 rows."
   ]
  },
  {
   "cell_type": "code",
   "execution_count": 2,
   "id": "8eabbd2d",
   "metadata": {},
   "outputs": [
    {
     "data": {
      "text/html": [
       "<div>\n",
       "<style scoped>\n",
       "    .dataframe tbody tr th:only-of-type {\n",
       "        vertical-align: middle;\n",
       "    }\n",
       "\n",
       "    .dataframe tbody tr th {\n",
       "        vertical-align: top;\n",
       "    }\n",
       "\n",
       "    .dataframe thead th {\n",
       "        text-align: right;\n",
       "    }\n",
       "</style>\n",
       "<table border=\"1\" class=\"dataframe\">\n",
       "  <thead>\n",
       "    <tr style=\"text-align: right;\">\n",
       "      <th></th>\n",
       "      <th>age</th>\n",
       "      <th>workclass</th>\n",
       "      <th>education-num</th>\n",
       "      <th>occupation</th>\n",
       "      <th>race</th>\n",
       "      <th>sex</th>\n",
       "      <th>capital-gain</th>\n",
       "      <th>capital-loss</th>\n",
       "      <th>hours-per-week</th>\n",
       "      <th>income_50k</th>\n",
       "    </tr>\n",
       "  </thead>\n",
       "  <tbody>\n",
       "    <tr>\n",
       "      <th>0</th>\n",
       "      <td>47</td>\n",
       "      <td>Private</td>\n",
       "      <td>9</td>\n",
       "      <td>Prof-specialty</td>\n",
       "      <td>Other</td>\n",
       "      <td>Female</td>\n",
       "      <td>0</td>\n",
       "      <td>0</td>\n",
       "      <td>40</td>\n",
       "      <td>0</td>\n",
       "    </tr>\n",
       "    <tr>\n",
       "      <th>1</th>\n",
       "      <td>27</td>\n",
       "      <td>Other</td>\n",
       "      <td>14</td>\n",
       "      <td>Other</td>\n",
       "      <td>Asian-Pac-Islander</td>\n",
       "      <td>Male</td>\n",
       "      <td>0</td>\n",
       "      <td>0</td>\n",
       "      <td>20</td>\n",
       "      <td>0</td>\n",
       "    </tr>\n",
       "    <tr>\n",
       "      <th>2</th>\n",
       "      <td>39</td>\n",
       "      <td>Private</td>\n",
       "      <td>10</td>\n",
       "      <td>Sales</td>\n",
       "      <td>Asian-Pac-Islander</td>\n",
       "      <td>Female</td>\n",
       "      <td>0</td>\n",
       "      <td>0</td>\n",
       "      <td>38</td>\n",
       "      <td>0</td>\n",
       "    </tr>\n",
       "    <tr>\n",
       "      <th>3</th>\n",
       "      <td>40</td>\n",
       "      <td>Private</td>\n",
       "      <td>9</td>\n",
       "      <td>Exec-managerial</td>\n",
       "      <td>White</td>\n",
       "      <td>Female</td>\n",
       "      <td>0</td>\n",
       "      <td>0</td>\n",
       "      <td>40</td>\n",
       "      <td>0</td>\n",
       "    </tr>\n",
       "    <tr>\n",
       "      <th>4</th>\n",
       "      <td>39</td>\n",
       "      <td>Private</td>\n",
       "      <td>9</td>\n",
       "      <td>Exec-managerial</td>\n",
       "      <td>White</td>\n",
       "      <td>Female</td>\n",
       "      <td>0</td>\n",
       "      <td>0</td>\n",
       "      <td>40</td>\n",
       "      <td>0</td>\n",
       "    </tr>\n",
       "  </tbody>\n",
       "</table>\n",
       "</div>"
      ],
      "text/plain": [
       "   age workclass  education-num       occupation                race     sex  \\\n",
       "0   47   Private              9   Prof-specialty               Other  Female   \n",
       "1   27     Other             14            Other  Asian-Pac-Islander    Male   \n",
       "2   39   Private             10            Sales  Asian-Pac-Islander  Female   \n",
       "3   40   Private              9  Exec-managerial               White  Female   \n",
       "4   39   Private              9  Exec-managerial               White  Female   \n",
       "\n",
       "   capital-gain  capital-loss  hours-per-week  income_50k  \n",
       "0             0             0              40           0  \n",
       "1             0             0              20           0  \n",
       "2             0             0              38           0  \n",
       "3             0             0              40           0  \n",
       "4             0             0              40           0  "
      ]
     },
     "execution_count": 2,
     "metadata": {},
     "output_type": "execute_result"
    }
   ],
   "source": [
    "income = pd.read_csv('income_cleaned.csv')\n",
    "income.head()"
   ]
  },
  {
   "cell_type": "markdown",
   "id": "c6fce48a",
   "metadata": {},
   "source": [
    ">__Task 1__\n",
    ">\n",
    "> Convert categorical variables to numerical variables of __workclass__, __occupation__, __race__, and __sex__ columns\n",
    ">\n",
    ">- Add the encoded columns to the original DataFrame (Hint: set `drop_first` parameter)\n",
    ">- Drop these four categorical columns"
   ]
  },
  {
   "cell_type": "code",
   "execution_count": null,
   "id": "a73fe891",
   "metadata": {},
   "outputs": [],
   "source": [
    "...\n",
    "\n",
    "income.head()"
   ]
  },
  {
   "cell_type": "markdown",
   "id": "42aa9e28",
   "metadata": {},
   "source": [
    "### Train/Test Split"
   ]
  },
  {
   "cell_type": "markdown",
   "id": "c61a7304",
   "metadata": {
    "id": "R09iiq-iSZOz"
   },
   "source": [
    ">__Task 2__\n",
    ">\n",
    ">- Assign the __income_50k__ column to `y` and the remaining columns to `X`\n",
    ">- Split data with a 80(train):20(test) ratio and set `random_state` to 144"
   ]
  },
  {
   "cell_type": "code",
   "execution_count": null,
   "id": "d3328f1e",
   "metadata": {
    "id": "6R9_RO6mdZ5f"
   },
   "outputs": [],
   "source": [
    "..."
   ]
  },
  {
   "cell_type": "markdown",
   "id": "ec951773",
   "metadata": {},
   "source": [
    "## Filter Methods"
   ]
  },
  {
   "cell_type": "code",
   "execution_count": 5,
   "id": "6dd5bf78",
   "metadata": {},
   "outputs": [
    {
     "data": {
      "text/plain": [
       "Index(['age', 'education-num', 'capital-gain', 'capital-loss',\n",
       "       'hours-per-week', 'workclass_Local-gov', 'workclass_Never-worked',\n",
       "       'workclass_Other', 'workclass_Private', 'workclass_Self-emp-inc',\n",
       "       'workclass_Self-emp-not-inc', 'workclass_State-gov',\n",
       "       'workclass_Without-pay', 'occupation_Armed-Forces',\n",
       "       'occupation_Craft-repair', 'occupation_Exec-managerial',\n",
       "       'occupation_Farming-fishing', 'occupation_Handlers-cleaners',\n",
       "       'occupation_Machine-op-inspct', 'occupation_Other',\n",
       "       'occupation_Other-service', 'occupation_Priv-house-serv',\n",
       "       'occupation_Prof-specialty', 'occupation_Protective-serv',\n",
       "       'occupation_Sales', 'occupation_Tech-support',\n",
       "       'occupation_Transport-moving', 'race_Asian-Pac-Islander', 'race_Black',\n",
       "       'race_Other', 'race_White', 'sex_Male'],\n",
       "      dtype='object')"
      ]
     },
     "execution_count": 5,
     "metadata": {},
     "output_type": "execute_result"
    }
   ],
   "source": [
    "X_train.columns"
   ]
  },
  {
   "cell_type": "markdown",
   "id": "ef1d13a3-6206-4662-a7de-4f294c5a963d",
   "metadata": {},
   "source": [
    "### Variance Threshold"
   ]
  },
  {
   "cell_type": "markdown",
   "id": "3d3c4301",
   "metadata": {},
   "source": [
    ">__Task 3__\n",
    ">\n",
    ">Apply `VarianceThreshold` with 10% threshold and 90% threshold\n",
    ">\n",
    ">- Print the shape of the resulting data\n",
    ">- Print the selected features\n",
    ">- Print feature names that were dropped"
   ]
  },
  {
   "cell_type": "code",
   "execution_count": null,
   "id": "f33a2a28",
   "metadata": {},
   "outputs": [],
   "source": [
    "# 10% threshold\n",
    "..."
   ]
  },
  {
   "cell_type": "code",
   "execution_count": null,
   "id": "e71c5981",
   "metadata": {},
   "outputs": [],
   "source": [
    "# 90% threshold\n",
    "..."
   ]
  },
  {
   "cell_type": "markdown",
   "id": "d133a6a1",
   "metadata": {},
   "source": [
    "### Univariate Feature Selection (`SelectKBest`)"
   ]
  },
  {
   "cell_type": "markdown",
   "id": "c55445ad-5ec9-440c-a52f-9e7f7363cd21",
   "metadata": {
    "tags": []
   },
   "source": [
    "#### ANOVA F-Value"
   ]
  },
  {
   "cell_type": "markdown",
   "id": "d7cebe9c",
   "metadata": {},
   "source": [
    ">__Task 4__\n",
    ">\n",
    ">- Select the top 5 features using ANOVA F-value\n",
    ">- Print feature names as well as their scores and and p-values in a DataFrame"
   ]
  },
  {
   "cell_type": "code",
   "execution_count": null,
   "id": "b048c834",
   "metadata": {},
   "outputs": [],
   "source": [
    "..."
   ]
  },
  {
   "cell_type": "markdown",
   "id": "cab24a14",
   "metadata": {},
   "source": [
    "Note that __f-scores are independent of our choice of `k`__.\n",
    "\n",
    "The p-value of __age__ is almost 0, so we cannot reject the hypothesis that the feature corresponding to the p-value has no explanatory power on the target value.\n",
    "\n",
    "Now, the data set contains 5 features. Once the fit object is created and trained, we can apply it to train or test set using `.transform`:"
   ]
  },
  {
   "cell_type": "code",
   "execution_count": 13,
   "id": "450902f9",
   "metadata": {},
   "outputs": [
    {
     "data": {
      "text/plain": [
       "(23800, 5)"
      ]
     },
     "execution_count": 13,
     "metadata": {},
     "output_type": "execute_result"
    }
   ],
   "source": [
    "X_train_flt = fit.transform(X_train)\n",
    "X_train_flt.shape"
   ]
  },
  {
   "cell_type": "code",
   "execution_count": 14,
   "id": "50d2c279",
   "metadata": {},
   "outputs": [
    {
     "data": {
      "text/plain": [
       "array([[37., 13., 50.,  0.,  1.],\n",
       "       [29., 11., 40.,  0.,  0.],\n",
       "       [62., 13., 50.,  1.,  1.],\n",
       "       [33., 11., 76.,  0.,  1.],\n",
       "       [28.,  9., 40.,  0.,  0.]])"
      ]
     },
     "execution_count": 14,
     "metadata": {},
     "output_type": "execute_result"
    }
   ],
   "source": [
    "# Check first 5 rows of the filtered data\n",
    "X_train_flt[:5,:] "
   ]
  },
  {
   "cell_type": "code",
   "execution_count": 15,
   "id": "ac6e3929",
   "metadata": {},
   "outputs": [
    {
     "data": {
      "text/plain": [
       "(5950, 5)"
      ]
     },
     "execution_count": 15,
     "metadata": {},
     "output_type": "execute_result"
    }
   ],
   "source": [
    "X_test_flt = fit.transform(X_test)\n",
    "X_test_flt.shape"
   ]
  },
  {
   "cell_type": "markdown",
   "id": "7f1571a8-516d-4431-ae2c-b5e8a79b4455",
   "metadata": {},
   "source": [
    ">__Task 5__\n",
    ">\n",
    ">Select features whose p-value is less than 5% threshold\n",
    ">\n",
    ">- Find the number of features below the threshold\n",
    ">- Set `k` to that number of features\n",
    ">- Apply `SelectKBest` to `X_train` and print its shape\n",
    ">- Print feature names of the resulting data"
   ]
  },
  {
   "cell_type": "code",
   "execution_count": null,
   "id": "20d5bd42",
   "metadata": {},
   "outputs": [],
   "source": [
    "..."
   ]
  },
  {
   "cell_type": "markdown",
   "id": "3126168a-bb0d-472a-a555-095c62f39412",
   "metadata": {},
   "source": [
    "#### Chi Squared Test"
   ]
  },
  {
   "cell_type": "markdown",
   "id": "79a6e8a5-8bd4-4b0e-a7c3-e73f5b258e07",
   "metadata": {},
   "source": [
    ">__Task 6__\n",
    ">\n",
    ">Select features whose p-value is less than 5% threshold using chi squared\n",
    ">\n",
    ">- Find the number of features below the threshold\n",
    ">- Set `k` to that number of features\n",
    ">- Apply `SelectKBest` to `X_train` and print its shape\n",
    ">- Print feature names of the resulting data"
   ]
  },
  {
   "cell_type": "code",
   "execution_count": null,
   "id": "84aa8d01",
   "metadata": {},
   "outputs": [],
   "source": [
    "..."
   ]
  },
  {
   "cell_type": "markdown",
   "id": "643e6826-d87b-4c23-9938-a3db5d2bf6b3",
   "metadata": {},
   "source": [
    "### Select Percentile"
   ]
  },
  {
   "cell_type": "markdown",
   "id": "e5cf132b",
   "metadata": {},
   "source": [
    "An alternative to selecting the best k features is selecting based on the percentile values. If we have 20 features, the best 10% is the top 2, which may not be meaningful. But it can be useful if we have hundreds of features. The method is applied in the same way as `SelectKBest`."
   ]
  },
  {
   "cell_type": "markdown",
   "id": "198a03d3",
   "metadata": {},
   "source": [
    ">__Task 7 (optional)__\n",
    ">\n",
    ">Select 20% most effective features using ANOVA F-value with `SelectPercentile`\n",
    ">\n",
    ">- Print the shape of the resulting data set\n",
    ">- Print feature names of the resulting data"
   ]
  },
  {
   "cell_type": "code",
   "execution_count": null,
   "id": "97bfadce",
   "metadata": {},
   "outputs": [],
   "source": [
    "..."
   ]
  },
  {
   "cell_type": "markdown",
   "id": "6c16b70f-c8c7-4181-bd27-439dc48e1fb1",
   "metadata": {},
   "source": [
    "---"
   ]
  },
  {
   "cell_type": "markdown",
   "id": "16a8b2cb",
   "metadata": {},
   "source": [
    "## Wrapper Methods"
   ]
  },
  {
   "cell_type": "markdown",
   "id": "128790fa-ca46-4794-b32a-32814f6d3f0f",
   "metadata": {},
   "source": [
    "We will first apply a logistic regression to the problem without feature selection."
   ]
  },
  {
   "cell_type": "markdown",
   "id": "960a6358-c5d7-4831-be9c-e51efb27f04e",
   "metadata": {},
   "source": [
    ">__Task 8__\n",
    ">\n",
    ">Apply a logistic regression without feature selection\n",
    ">\n",
    ">- Print the accuracy of the model"
   ]
  },
  {
   "cell_type": "code",
   "execution_count": null,
   "id": "e19802dc",
   "metadata": {},
   "outputs": [],
   "source": [
    "..."
   ]
  },
  {
   "cell_type": "markdown",
   "id": "c20d18fd-0234-465d-8c28-4c2f43a47c3e",
   "metadata": {},
   "source": [
    "### Recursive Feature Elimination (RFE)"
   ]
  },
  {
   "cell_type": "markdown",
   "id": "bd8edbc3-ec54-410b-946c-86f4cf64df7a",
   "metadata": {},
   "source": [
    ">__Task 9__\n",
    ">\n",
    ">Apply RFE to select the best 10 features\n",
    ">\n",
    ">- Print the accuracy of logistic regression with selected features\n",
    ">- Print feature names of the resulting data"
   ]
  },
  {
   "cell_type": "code",
   "execution_count": null,
   "id": "eec7c2dd",
   "metadata": {},
   "outputs": [],
   "source": [
    "..."
   ]
  },
  {
   "cell_type": "markdown",
   "id": "77d974a5",
   "metadata": {},
   "source": [
    "### RFE with Cross-Validation (RFECV)"
   ]
  },
  {
   "cell_type": "markdown",
   "id": "2c7c1220",
   "metadata": {},
   "source": [
    ">__Task 10__\n",
    ">\n",
    ">Apply RFECV with minimum 8 features and 5 folds\n",
    ">\n",
    ">- Print the accuracy of logistic regression with selected features\n",
    ">- Print feature names of the resulting data"
   ]
  },
  {
   "cell_type": "code",
   "execution_count": null,
   "id": "921b7dfc",
   "metadata": {},
   "outputs": [],
   "source": [
    "..."
   ]
  },
  {
   "cell_type": "markdown",
   "id": "cc7bad3c-034b-4083-9f7b-f3d63599b100",
   "metadata": {},
   "source": [
    "---"
   ]
  },
  {
   "cell_type": "markdown",
   "id": "87145b77",
   "metadata": {},
   "source": [
    "## Embedded Methods"
   ]
  },
  {
   "cell_type": "markdown",
   "id": "5418f449-57fa-473e-b39b-01f752068ffb",
   "metadata": {},
   "source": [
    "### Lasso (L1) Regularization"
   ]
  },
  {
   "cell_type": "markdown",
   "id": "e8d8f71f",
   "metadata": {},
   "source": [
    ">__Task 11__\n",
    ">\n",
    ">Compare L1 regularization with `C=10` and `C=0.001`\n",
    ">\n",
    ">- Fit a logistic regression model with `liblinear` solver at both `C` values \n",
    ">- Print the accuracy of the model with L1\n",
    ">- Print model coefficients in a table\n",
    ">\n",
    ">What do you find with the coefficient values when `C=10` and `C=0.001`?"
   ]
  },
  {
   "cell_type": "code",
   "execution_count": null,
   "id": "34dc1221",
   "metadata": {},
   "outputs": [],
   "source": [
    "# C=10\n",
    "..."
   ]
  },
  {
   "cell_type": "code",
   "execution_count": null,
   "id": "b3623a4c",
   "metadata": {},
   "outputs": [],
   "source": [
    "# C=0.001\n",
    "..."
   ]
  },
  {
   "cell_type": "markdown",
   "id": "b9d85484-d0d2-49d3-8a1d-df14d2f366e3",
   "metadata": {},
   "source": [
    "### Ridge (L2) Regularization"
   ]
  },
  {
   "cell_type": "markdown",
   "id": "29a10201",
   "metadata": {},
   "source": [
    ">__Task 12__\n",
    ">\n",
    ">Compare L2 regularization with `C=10` and `C=0.001` (try to use a for loop this time)\n",
    ">\n",
    ">- Fit a logistic regression model with `liblinear` solver at both `C` values \n",
    ">- Print the accuracy of the model with L2\n",
    ">- Print model coefficients\n",
    ">\n",
    ">What is your finding here compared to L1 regularization?"
   ]
  },
  {
   "cell_type": "code",
   "execution_count": null,
   "id": "b8117174",
   "metadata": {},
   "outputs": [],
   "source": [
    "..."
   ]
  },
  {
   "cell_type": "markdown",
   "id": "02376544-5e59-47ec-a703-0ef0038b4cff",
   "metadata": {},
   "source": [
    "### Comparison Between L1 and L2 Regularizations"
   ]
  },
  {
   "cell_type": "markdown",
   "id": "1ef76e1c",
   "metadata": {},
   "source": [
    ">__Task 13__\n",
    ">\n",
    ">Compare two regularizations with different `C` values\n",
    ">\n",
    ">- Try to use a for loop to fit both models with `C` value range `(10,0.001,-1)`\n",
    ">- Append the `C` values and accuracy values of both models\n",
    ">- Plot both models with `C` in x-axis and `Accuracy` in y-axis\n",
    ">- Set `plt.ylim(0.5,1.2)` as y-axis limits\n",
    ">\n",
    ">Which model and what value of `C` do you recommend in this case?"
   ]
  },
  {
   "cell_type": "code",
   "execution_count": null,
   "id": "1ce86f19",
   "metadata": {},
   "outputs": [],
   "source": [
    "..."
   ]
  }
 ],
 "metadata": {
  "kernelspec": {
   "display_name": "Python 3",
   "language": "python",
   "name": "python3"
  },
  "language_info": {
   "codemirror_mode": {
    "name": "ipython",
    "version": 3
   },
   "file_extension": ".py",
   "mimetype": "text/x-python",
   "name": "python",
   "nbconvert_exporter": "python",
   "pygments_lexer": "ipython3",
   "version": "3.10.4"
  }
 },
 "nbformat": 4,
 "nbformat_minor": 5
}
