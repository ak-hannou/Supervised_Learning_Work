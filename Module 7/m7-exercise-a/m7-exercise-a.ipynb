{
 "cells": [
  {
   "cell_type": "markdown",
   "id": "0b3b879f-0cac-4204-a3e7-6c52c4b7787e",
   "metadata": {},
   "source": [
    "# Module 7: Exercise A"
   ]
  },
  {
   "cell_type": "markdown",
   "id": "bf7deac6-0b2f-413b-ad8b-1a2ab69ee50f",
   "metadata": {},
   "source": [
    "In this exercise, you will practice tree-based methods for classification."
   ]
  },
  {
   "cell_type": "code",
   "execution_count": 1,
   "id": "6a349757-de59-4fc4-92d2-e85e1ab73813",
   "metadata": {},
   "outputs": [],
   "source": [
    "import pandas as pd\n",
    "import numpy as np\n",
    "import matplotlib.pyplot as plt\n",
    "import seaborn as sns\n",
    "%matplotlib inline\n",
    "\n",
    "from sklearn.metrics import classification_report, accuracy_score, f1_score"
   ]
  },
  {
   "cell_type": "markdown",
   "id": "9fe5327d-fdbe-4cab-9091-01e6ce73ea27",
   "metadata": {
    "tags": []
   },
   "source": [
    "## Data Preprocessing"
   ]
  },
  {
   "cell_type": "markdown",
   "id": "93202bfc-0345-4408-af64-5d01837dc543",
   "metadata": {},
   "source": [
    "We will analyze stroke data set, which has binary target values (stroke yes or no) and consists of patient information."
   ]
  },
  {
   "cell_type": "code",
   "execution_count": 2,
   "id": "05aae5b6-cb17-45d7-8f41-0e119bfc9267",
   "metadata": {},
   "outputs": [],
   "source": [
    "stroke = pd.read_csv('stroke_data.csv')"
   ]
  },
  {
   "cell_type": "markdown",
   "id": "ce28c588-fba0-49a6-9334-ba8741aea9b4",
   "metadata": {},
   "source": [
    ">__Task 1__\n",
    ">\n",
    ">Count the number of NAs for each column"
   ]
  },
  {
   "cell_type": "code",
   "execution_count": null,
   "id": "55b0363c-5f32-4c6e-8edc-439bf103a72a",
   "metadata": {},
   "outputs": [],
   "source": [
    "..."
   ]
  },
  {
   "cell_type": "markdown",
   "id": "4456c982-75eb-4455-8b71-d59f30b5b813",
   "metadata": {},
   "source": [
    ">__Task 2__\n",
    ">\n",
    ">Visualize the distributon of __stroke__ with and without missing values of __bmi__ using a count plot "
   ]
  },
  {
   "cell_type": "code",
   "execution_count": null,
   "id": "e5659561-fde6-4281-afc1-c4776cb0c7be",
   "metadata": {},
   "outputs": [],
   "source": [
    "..."
   ]
  },
  {
   "cell_type": "markdown",
   "id": "557b6ccb-be2f-4b09-8848-87c5f4dcf336",
   "metadata": {},
   "source": [
    "This is a highly imbalanced data, which should be augmented or more data points should be collected with `stroke=1`. For this assignment, let's move on and observe the result with this imbalanced data set. We can drop the rows with missing values or fill __bmi__ with mean."
   ]
  },
  {
   "cell_type": "markdown",
   "id": "33bf2a22-e156-426d-bf33-81585bb224e4",
   "metadata": {},
   "source": [
    ">__Task 3__\n",
    ">\n",
    ">Fill the mising value of __bmi__ with mean"
   ]
  },
  {
   "cell_type": "code",
   "execution_count": null,
   "id": "9fcb2910-23ce-4387-974f-d9ede870d619",
   "metadata": {},
   "outputs": [],
   "source": [
    "..."
   ]
  },
  {
   "cell_type": "markdown",
   "id": "252e4bb5-e9fe-4a9e-bf0f-34454f7c0e38",
   "metadata": {},
   "source": [
    "To apply the supervised learning models, we need the categorical data represented with numeric labels."
   ]
  },
  {
   "cell_type": "markdown",
   "id": "abdc0dcd-a6c2-44c8-bb2e-3c32ee3633df",
   "metadata": {},
   "source": [
    ">__Task 4__\n",
    ">\n",
    ">Convert columns to numerical values: __gender__, __ever_married__, __work_type__, __Residence_type__, __smoking_status__\n",
    ">\n",
    ">- Check unique values in each column\n",
    ">- For __gender__, __ever_married__, and __Residence_type__\n",
    ">     - Use the  dictionaries `{'Female':1, 'Male':0}`, `{'Yes':1, 'No':0}`, and `{'Urban':1, 'Rural':0}` respectively to encode values and replace the original columns\n",
    ">- For __work_type__ and __smoking_status__\n",
    ">     - Apply one-hot encoding (dummy variables)\n",
    ">     - Remember to add prefix, otherwise it will be hard to link the new column names back to the original column. \n",
    ">     - Drop the original ones, so you don't mix up these columns. We only need the transformed ones for modelling."
   ]
  },
  {
   "cell_type": "code",
   "execution_count": null,
   "id": "6ce6cb21-e629-401b-a672-6b4ed11254ad",
   "metadata": {},
   "outputs": [],
   "source": [
    "..."
   ]
  },
  {
   "cell_type": "markdown",
   "id": "62de02d5-7b49-40bb-ace0-ab60a595f8fd",
   "metadata": {},
   "source": [
    "You can self check the result. If you done everything properly, you should get a cleaned data as follows."
   ]
  },
  {
   "cell_type": "code",
   "execution_count": 9,
   "id": "7a6056dd-7cbf-408e-9e38-f611a4b7edf4",
   "metadata": {},
   "outputs": [
    {
     "data": {
      "text/html": [
       "<div>\n",
       "<style scoped>\n",
       "    .dataframe tbody tr th:only-of-type {\n",
       "        vertical-align: middle;\n",
       "    }\n",
       "\n",
       "    .dataframe tbody tr th {\n",
       "        vertical-align: top;\n",
       "    }\n",
       "\n",
       "    .dataframe thead th {\n",
       "        text-align: right;\n",
       "    }\n",
       "</style>\n",
       "<table border=\"1\" class=\"dataframe\">\n",
       "  <thead>\n",
       "    <tr style=\"text-align: right;\">\n",
       "      <th></th>\n",
       "      <th>id</th>\n",
       "      <th>gender</th>\n",
       "      <th>age</th>\n",
       "      <th>hypertension</th>\n",
       "      <th>heart_disease</th>\n",
       "      <th>ever_married</th>\n",
       "      <th>Residence_type</th>\n",
       "      <th>avg_glucose_level</th>\n",
       "      <th>bmi</th>\n",
       "      <th>stroke</th>\n",
       "      <th>work_type_Govt_job</th>\n",
       "      <th>work_type_Never_worked</th>\n",
       "      <th>work_type_Private</th>\n",
       "      <th>work_type_Self-employed</th>\n",
       "      <th>work_type_children</th>\n",
       "      <th>smoke_Unknown</th>\n",
       "      <th>smoke_formerly smoked</th>\n",
       "      <th>smoke_never smoked</th>\n",
       "      <th>smoke_smokes</th>\n",
       "    </tr>\n",
       "  </thead>\n",
       "  <tbody>\n",
       "    <tr>\n",
       "      <th>0</th>\n",
       "      <td>59437</td>\n",
       "      <td>1</td>\n",
       "      <td>57.0</td>\n",
       "      <td>0</td>\n",
       "      <td>0</td>\n",
       "      <td>1</td>\n",
       "      <td>1</td>\n",
       "      <td>221.89</td>\n",
       "      <td>37.3</td>\n",
       "      <td>1</td>\n",
       "      <td>0</td>\n",
       "      <td>0</td>\n",
       "      <td>1</td>\n",
       "      <td>0</td>\n",
       "      <td>0</td>\n",
       "      <td>0</td>\n",
       "      <td>0</td>\n",
       "      <td>0</td>\n",
       "      <td>1</td>\n",
       "    </tr>\n",
       "    <tr>\n",
       "      <th>1</th>\n",
       "      <td>71719</td>\n",
       "      <td>0</td>\n",
       "      <td>66.0</td>\n",
       "      <td>0</td>\n",
       "      <td>0</td>\n",
       "      <td>1</td>\n",
       "      <td>0</td>\n",
       "      <td>57.17</td>\n",
       "      <td>25.5</td>\n",
       "      <td>0</td>\n",
       "      <td>1</td>\n",
       "      <td>0</td>\n",
       "      <td>0</td>\n",
       "      <td>0</td>\n",
       "      <td>0</td>\n",
       "      <td>0</td>\n",
       "      <td>1</td>\n",
       "      <td>0</td>\n",
       "      <td>0</td>\n",
       "    </tr>\n",
       "    <tr>\n",
       "      <th>2</th>\n",
       "      <td>26723</td>\n",
       "      <td>1</td>\n",
       "      <td>57.0</td>\n",
       "      <td>0</td>\n",
       "      <td>0</td>\n",
       "      <td>1</td>\n",
       "      <td>1</td>\n",
       "      <td>83.14</td>\n",
       "      <td>31.9</td>\n",
       "      <td>0</td>\n",
       "      <td>0</td>\n",
       "      <td>0</td>\n",
       "      <td>1</td>\n",
       "      <td>0</td>\n",
       "      <td>0</td>\n",
       "      <td>0</td>\n",
       "      <td>0</td>\n",
       "      <td>1</td>\n",
       "      <td>0</td>\n",
       "    </tr>\n",
       "    <tr>\n",
       "      <th>3</th>\n",
       "      <td>42899</td>\n",
       "      <td>0</td>\n",
       "      <td>78.0</td>\n",
       "      <td>0</td>\n",
       "      <td>0</td>\n",
       "      <td>1</td>\n",
       "      <td>1</td>\n",
       "      <td>133.19</td>\n",
       "      <td>23.6</td>\n",
       "      <td>1</td>\n",
       "      <td>0</td>\n",
       "      <td>0</td>\n",
       "      <td>0</td>\n",
       "      <td>1</td>\n",
       "      <td>0</td>\n",
       "      <td>0</td>\n",
       "      <td>1</td>\n",
       "      <td>0</td>\n",
       "      <td>0</td>\n",
       "    </tr>\n",
       "    <tr>\n",
       "      <th>4</th>\n",
       "      <td>12674</td>\n",
       "      <td>0</td>\n",
       "      <td>44.0</td>\n",
       "      <td>0</td>\n",
       "      <td>0</td>\n",
       "      <td>1</td>\n",
       "      <td>0</td>\n",
       "      <td>74.15</td>\n",
       "      <td>34.5</td>\n",
       "      <td>0</td>\n",
       "      <td>0</td>\n",
       "      <td>0</td>\n",
       "      <td>1</td>\n",
       "      <td>0</td>\n",
       "      <td>0</td>\n",
       "      <td>0</td>\n",
       "      <td>1</td>\n",
       "      <td>0</td>\n",
       "      <td>0</td>\n",
       "    </tr>\n",
       "  </tbody>\n",
       "</table>\n",
       "</div>"
      ],
      "text/plain": [
       "      id  gender   age  hypertension  heart_disease  ever_married  \\\n",
       "0  59437       1  57.0             0              0             1   \n",
       "1  71719       0  66.0             0              0             1   \n",
       "2  26723       1  57.0             0              0             1   \n",
       "3  42899       0  78.0             0              0             1   \n",
       "4  12674       0  44.0             0              0             1   \n",
       "\n",
       "   Residence_type  avg_glucose_level   bmi  stroke  work_type_Govt_job  \\\n",
       "0               1             221.89  37.3       1                   0   \n",
       "1               0              57.17  25.5       0                   1   \n",
       "2               1              83.14  31.9       0                   0   \n",
       "3               1             133.19  23.6       1                   0   \n",
       "4               0              74.15  34.5       0                   0   \n",
       "\n",
       "   work_type_Never_worked  work_type_Private  work_type_Self-employed  \\\n",
       "0                       0                  1                        0   \n",
       "1                       0                  0                        0   \n",
       "2                       0                  1                        0   \n",
       "3                       0                  0                        1   \n",
       "4                       0                  1                        0   \n",
       "\n",
       "   work_type_children  smoke_Unknown  smoke_formerly smoked  \\\n",
       "0                   0              0                      0   \n",
       "1                   0              0                      1   \n",
       "2                   0              0                      0   \n",
       "3                   0              0                      1   \n",
       "4                   0              0                      1   \n",
       "\n",
       "   smoke_never smoked  smoke_smokes  \n",
       "0                   0             1  \n",
       "1                   0             0  \n",
       "2                   1             0  \n",
       "3                   0             0  \n",
       "4                   0             0  "
      ]
     },
     "execution_count": 9,
     "metadata": {},
     "output_type": "execute_result"
    }
   ],
   "source": [
    "stroke.head()"
   ]
  },
  {
   "cell_type": "markdown",
   "id": "7fb185e4-0612-4615-8894-a42adf1a432c",
   "metadata": {},
   "source": [
    ">__Task 5__\n",
    ">\n",
    ">Visualize __age__ distribution of two groups (stroke vs non-stroke) in one single plot \n",
    ">\n",
    ">What can you learn from the plot?"
   ]
  },
  {
   "cell_type": "code",
   "execution_count": null,
   "id": "da2f737e-379d-4d18-ad56-c7d4fe1f762d",
   "metadata": {},
   "outputs": [],
   "source": [
    "..."
   ]
  },
  {
   "cell_type": "markdown",
   "id": "d73d9682-61af-4186-8667-a4a09390a0c8",
   "metadata": {
    "tags": []
   },
   "source": [
    "### Train/Test Split"
   ]
  },
  {
   "cell_type": "markdown",
   "id": "176c7e05-70e2-4d01-9126-cba8b6ff593d",
   "metadata": {},
   "source": [
    ">__Task 6__\n",
    ">\n",
    ">- Assign the __stroke__ to `y`, and the rest (except __id__) to `X`\n",
    ">- Split with a 80(train):20(test) ratio and set 89 randomness\n",
    ">- Remember to use stratified split as the data set has majority records of non-stroke\n",
    ">- Make sure your function returns `X_train`, `X_test`, `y_train`, `y_test`"
   ]
  },
  {
   "cell_type": "code",
   "execution_count": null,
   "id": "9fbf37cd-4918-4af3-b936-6d66c805f643",
   "metadata": {},
   "outputs": [],
   "source": [
    "..."
   ]
  },
  {
   "cell_type": "markdown",
   "id": "9a86a05a-4791-4d49-ac75-b53ddca26e72",
   "metadata": {},
   "source": [
    "## Decision Tree Classifier"
   ]
  },
  {
   "cell_type": "markdown",
   "id": "b13e7b34-50aa-4010-8159-d2f7aca4d17c",
   "metadata": {},
   "source": [
    ">__Task 7__\n",
    ">\n",
    ">- Initiate a decision-tree classifier, set tree depth to 2 and 89 randomness\n",
    ">- Print a text report showing the rules of tree\n",
    ">- Plot the tree"
   ]
  },
  {
   "cell_type": "code",
   "execution_count": null,
   "id": "443154bf-cc12-4640-a071-993bcdf4f9dd",
   "metadata": {},
   "outputs": [],
   "source": [
    "..."
   ]
  },
  {
   "cell_type": "markdown",
   "id": "3b77bc04-53c9-4b38-8126-af90a58221df",
   "metadata": {},
   "source": [
    "### Feature Importance"
   ]
  },
  {
   "cell_type": "markdown",
   "id": "4be7954e-f54c-4820-b51d-0ecbf958b018",
   "metadata": {},
   "source": [
    ">__Task 8__\n",
    ">\n",
    ">- Map feature names to their importance scores\n",
    ">- Print and plot feature importance"
   ]
  },
  {
   "cell_type": "code",
   "execution_count": null,
   "id": "a3e60963-e7d2-4cf8-b3c0-371a076fef30",
   "metadata": {},
   "outputs": [],
   "source": [
    "..."
   ]
  },
  {
   "cell_type": "markdown",
   "id": "69d47ba8-404f-473d-af5b-3128f5d31fde",
   "metadata": {
    "tags": []
   },
   "source": [
    "### Performance Evaluation"
   ]
  },
  {
   "cell_type": "markdown",
   "id": "4f44d4c3-3d85-4904-8967-2ce7d6ff0ac6",
   "metadata": {},
   "source": [
    ">__Task 9__\n",
    ">\n",
    ">- Predict the class (0 or 1) on test set\n",
    ">- Predict the class probabilities\n",
    ">- Calculate the accuracy of the model"
   ]
  },
  {
   "cell_type": "code",
   "execution_count": null,
   "id": "4fa8f8d2-436d-4ad2-b83b-e3c013f28ba9",
   "metadata": {},
   "outputs": [],
   "source": [
    "..."
   ]
  },
  {
   "cell_type": "markdown",
   "id": "1a769590-3f0e-405b-9581-b4d22fde2f58",
   "metadata": {},
   "source": [
    "### The Best Performing Depth"
   ]
  },
  {
   "cell_type": "markdown",
   "id": "b6f83b48-e693-4846-9cf1-9190d8277c4d",
   "metadata": {},
   "source": [
    ">__Task 10__\n",
    ">\n",
    ">Find the depth that maximizes accuracy\n",
    ">\n",
    ">- Fill in a for loop that iterates over the `k` argument\n",
    ">- Initiate the model with `max_depth=k`\n",
    ">- Fit the model on train set\n",
    ">- Predict on both train and test sets\n",
    ">- Calculate accuracies by comparing the predictions with `y_train` and `y_test` respectively\n",
    ">- Plot the results\n",
    ">- Print the best performing depth and its accuracy"
   ]
  },
  {
   "cell_type": "code",
   "execution_count": null,
   "id": "7f8d794c-687b-4f4b-a099-c1bac6870e84",
   "metadata": {},
   "outputs": [],
   "source": [
    "..."
   ]
  },
  {
   "cell_type": "markdown",
   "id": "56afb2ef-3391-4c22-b1b9-11f80a70cdcf",
   "metadata": {},
   "source": [
    "---"
   ]
  },
  {
   "cell_type": "markdown",
   "id": "95c51a64-49e9-40eb-bbd6-700e903a7e1e",
   "metadata": {},
   "source": [
    "## Ensemble Methods"
   ]
  },
  {
   "cell_type": "markdown",
   "id": "4ed93c88-ae08-4fc1-ae71-df89dc2474a5",
   "metadata": {},
   "source": [
    "### Bagging"
   ]
  },
  {
   "cell_type": "markdown",
   "id": "8194e119-9926-4d23-9d04-1264c445b609",
   "metadata": {},
   "source": [
    ">__Task 11__\n",
    ">\n",
    ">Build a bagging model for classification task\n",
    ">\n",
    ">- Set 100 base estimators and 89 randomness\n",
    ">- Calculate accuracy on test set"
   ]
  },
  {
   "cell_type": "code",
   "execution_count": null,
   "id": "04e20536-f63c-4b9a-913c-92aba9b61f50",
   "metadata": {},
   "outputs": [],
   "source": [
    "..."
   ]
  },
  {
   "cell_type": "markdown",
   "id": "d6aa97a1-0c05-44a1-8970-21f6b69889db",
   "metadata": {},
   "source": [
    ">__Task 12__\n",
    ">\n",
    ">Fit different bagging models by changing `n_estimators` parameter in a loop\n",
    ">\n",
    ">- Set a range between 50 and 160 with a step of 10\n",
    ">- Initiate a bagging model with `n_estimators=n`and 89 randomness\n",
    ">- Fit the model to train pairs\n",
    ">- Predict values on test sets\n",
    ">- Add train accuracy to `accuracy['train_acc']` and test accuracy to `accuracy['test_acc']`\n",
    ">- Print the number of estimators and its accuracy"
   ]
  },
  {
   "cell_type": "code",
   "execution_count": null,
   "id": "fa7db25e-c5ba-4a92-adeb-1c610c3b209f",
   "metadata": {},
   "outputs": [],
   "source": [
    "..."
   ]
  },
  {
   "cell_type": "markdown",
   "id": "690945af-a3c5-4082-9a60-2bd10eca7aea",
   "metadata": {},
   "source": [
    "### Random Forest"
   ]
  },
  {
   "cell_type": "markdown",
   "id": "1eed8671-ac1d-430f-8b29-a8fd1ca12b4b",
   "metadata": {},
   "source": [
    ">__Task 13__\n",
    ">\n",
    ">Build a random forest model for classification task\n",
    ">\n",
    ">- Set 100 base estimators, 10 features for split, 89 randomness \n",
    ">- Calculate accuracy and F1 score on test set"
   ]
  },
  {
   "cell_type": "code",
   "execution_count": null,
   "id": "1dcc1618-ba44-42ed-9e16-e5023ce6785e",
   "metadata": {},
   "outputs": [],
   "source": [
    "..."
   ]
  },
  {
   "cell_type": "markdown",
   "id": "0928b09d-1589-48fd-b070-eab603facab5",
   "metadata": {},
   "source": [
    ">__Task 14__\n",
    ">\n",
    ">Check feature importance of the random forest model and plot the results"
   ]
  },
  {
   "cell_type": "code",
   "execution_count": null,
   "id": "82cc22fe-8304-4b32-830d-4a0cb7fa4398",
   "metadata": {},
   "outputs": [],
   "source": [
    "..."
   ]
  },
  {
   "cell_type": "markdown",
   "id": "8ee948b0-e78b-489a-afd8-f3435137d4da",
   "metadata": {},
   "source": [
    ">__Task 15__\n",
    ">\n",
    ">Tune hyperparameter for the random forest model\n",
    ">\n",
    ">- Define the classifier with 89 randomness\n",
    ">- Define the parameter grid with:\n",
    ">     - `max_depth` range `(5,30,5)` \n",
    ">     - `n_estimators` range `(50,210,50)`\n",
    ">- Define the grid search with the parameter grid and set:\n",
    ">     - `accuracy` as the evaluation score\n",
    ">     - `n_jobs=-1`\n",
    ">     - 5-fold cross-validation\n",
    ">     - `verbose=1`\n",
    ">     - `return_train_score=True`\n",
    ">- Fit the grid search to train set\n",
    ">- Print the best resulting parameters"
   ]
  },
  {
   "cell_type": "code",
   "execution_count": null,
   "id": "7aafd291-5767-495b-876a-4a1a25b76256",
   "metadata": {},
   "outputs": [],
   "source": [
    "..."
   ]
  },
  {
   "cell_type": "markdown",
   "id": "a07c99ad-1327-4df3-b6f6-1945e1e3def1",
   "metadata": {},
   "source": [
    ">__Task 16__\n",
    ">\n",
    ">Predict on test set using `.best_estimator_` and print the accuracy and F1 score of the tuned model"
   ]
  },
  {
   "cell_type": "code",
   "execution_count": null,
   "id": "79987676-2ccd-4492-b45d-80ce4d6df94a",
   "metadata": {},
   "outputs": [],
   "source": [
    "..."
   ]
  },
  {
   "cell_type": "markdown",
   "id": "9432c33a-e58a-4c87-8169-2686f7726eaf",
   "metadata": {},
   "source": [
    "### Gradient Boosting"
   ]
  },
  {
   "cell_type": "markdown",
   "id": "45019d41-f372-4a68-95ec-4dd8e1f44b2e",
   "metadata": {},
   "source": [
    ">__Task 17__\n",
    ">\n",
    ">Build a gradient boosting model for classification task\n",
    ">\n",
    ">- Set 0.01 learning rate, 30 base estimators, 5 features, 5 depth, and 89 randomness \n",
    ">- Calculate accuracy and F1 score on test set"
   ]
  },
  {
   "cell_type": "code",
   "execution_count": null,
   "id": "6859bb65-7325-4233-b22d-be9ce6f6fe0b",
   "metadata": {},
   "outputs": [],
   "source": [
    "..."
   ]
  },
  {
   "cell_type": "markdown",
   "id": "545a4a2f-7b97-4151-b5e7-afedad8b8369",
   "metadata": {},
   "source": [
    ">__Task 18__\n",
    ">\n",
    ">Find the best performing learning rate\n",
    ">\n",
    ">- Define the classifier with 89 randomness\n",
    ">- Define the parameter grid with:\n",
    ">     - `max_depth` range `(5,30,5)` \n",
    ">     - `n_estimators` range `(50,210,50)`\n",
    ">     - `learning_rate` range `(0.01,0.31,0.1)`\n",
    ">- Define the grid search with the parameter grid and set:\n",
    ">     - `accuracy` as the evaluation score\n",
    ">     - `n_jobs=-1`\n",
    ">     - 5-fold cross-validation\n",
    ">     - `verbose=1`\n",
    ">     - `return_train_score=True`\n",
    ">- Fit the grid search to train set\n",
    ">- Print the best resulting parameters"
   ]
  },
  {
   "cell_type": "code",
   "execution_count": null,
   "id": "4f6fa960-5638-4d48-80fd-592059846a8f",
   "metadata": {},
   "outputs": [],
   "source": [
    "..."
   ]
  },
  {
   "cell_type": "markdown",
   "id": "a6f26e05-b8b6-4252-82a8-9016c31ec84d",
   "metadata": {},
   "source": [
    ">__Task 19__\n",
    ">\n",
    ">Predict on test set using `.best_estimator_` and print the accuracy and F1 score of the tuned model"
   ]
  },
  {
   "cell_type": "code",
   "execution_count": null,
   "id": "63fcc747-03fe-4f8e-97fb-1ef14fcab49f",
   "metadata": {},
   "outputs": [],
   "source": [
    "..."
   ]
  }
 ],
 "metadata": {
  "kernelspec": {
   "display_name": "Python 3",
   "language": "python",
   "name": "python3"
  },
  "language_info": {
   "codemirror_mode": {
    "name": "ipython",
    "version": 3
   },
   "file_extension": ".py",
   "mimetype": "text/x-python",
   "name": "python",
   "nbconvert_exporter": "python",
   "pygments_lexer": "ipython3",
   "version": "3.10.4"
  }
 },
 "nbformat": 4,
 "nbformat_minor": 5
}
