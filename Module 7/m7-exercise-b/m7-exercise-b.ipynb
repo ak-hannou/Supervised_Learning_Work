{
 "cells": [
  {
   "cell_type": "markdown",
   "id": "ed7c12b9-341c-48dc-98c2-d79fea1a8506",
   "metadata": {},
   "source": [
    "# Module 7: Exercise B"
   ]
  },
  {
   "cell_type": "markdown",
   "id": "554a8ed3-866a-42e8-b63a-68eb0ee4ae0e",
   "metadata": {},
   "source": [
    "In this exercise, you will practice tree-based methods for regression."
   ]
  },
  {
   "cell_type": "code",
   "execution_count": 1,
   "id": "4866961f-2371-4129-936b-9fa11213c382",
   "metadata": {},
   "outputs": [],
   "source": [
    "import pandas as pd\n",
    "import numpy as np\n",
    "import matplotlib.pyplot as plt\n",
    "import seaborn as sns\n",
    "%matplotlib inline\n",
    "\n",
    "from sklearn.metrics import classification_report, mean_squared_error, r2_score"
   ]
  },
  {
   "cell_type": "markdown",
   "id": "5ba4001e-23d5-4575-8cf5-ac88556dfaf2",
   "metadata": {},
   "source": [
    "## Data Preprocessing"
   ]
  },
  {
   "cell_type": "markdown",
   "id": "0649d1bc-e452-457d-b48a-51ec97c21ef8",
   "metadata": {},
   "source": [
    "We will apply the methods on a car fuel data set."
   ]
  },
  {
   "cell_type": "code",
   "execution_count": 2,
   "id": "43bdb2e6-a2ab-46bf-97f6-b0220ffd1f1a",
   "metadata": {},
   "outputs": [
    {
     "name": "stdout",
     "output_type": "stream",
     "text": [
      "<class 'pandas.core.frame.DataFrame'>\n",
      "RangeIndex: 398 entries, 0 to 397\n",
      "Data columns (total 9 columns):\n",
      " #   Column        Non-Null Count  Dtype  \n",
      "---  ------        --------------  -----  \n",
      " 0   mpg           398 non-null    float64\n",
      " 1   cylinders     398 non-null    int64  \n",
      " 2   displacement  398 non-null    float64\n",
      " 3   horsepower    398 non-null    object \n",
      " 4   weight        398 non-null    int64  \n",
      " 5   acceleration  398 non-null    float64\n",
      " 6   model year    398 non-null    int64  \n",
      " 7   origin        398 non-null    int64  \n",
      " 8   car name      398 non-null    object \n",
      "dtypes: float64(3), int64(4), object(2)\n",
      "memory usage: 28.1+ KB\n"
     ]
    }
   ],
   "source": [
    "mpg = pd.read_csv('car_mpg.csv')\n",
    "mpg.info()"
   ]
  },
  {
   "cell_type": "markdown",
   "id": "33035fe5-1a23-44be-8b24-a3ccf29c68a4",
   "metadata": {},
   "source": [
    "__horsepower__ is listed as object instead of float or int. Usually this is caused by the column containing non-numeric values. Let's find out why."
   ]
  },
  {
   "cell_type": "markdown",
   "id": "2f016a52-40b5-43b9-8fd4-e0809fdfb9f6",
   "metadata": {},
   "source": [
    ">__Task 1__\n",
    ">\n",
    ">Convert the __horsepower__ column to numeric\n",
    ">\n",
    ">- Find out __horsepower__ with unusual values `?`\n",
    ">- Identify non-numeric values, using `.to_numeric()` with `errors='coerce` argument\n",
    ">- Drop the rows where values are not convertible (they are missing values after converted to numerical values)"
   ]
  },
  {
   "cell_type": "code",
   "execution_count": null,
   "id": "d24b503f-fd5e-4f81-a297-88405008796d",
   "metadata": {},
   "outputs": [],
   "source": [
    "..."
   ]
  },
  {
   "cell_type": "markdown",
   "id": "7b6122bc-f6fc-4232-8607-f0b87f4d3ca9",
   "metadata": {},
   "source": [
    "Now, let's check the outliers by first looking at the quantiles of columns."
   ]
  },
  {
   "cell_type": "code",
   "execution_count": 5,
   "id": "f72c3bb3-bf7a-4418-9729-25839ffb7305",
   "metadata": {},
   "outputs": [
    {
     "data": {
      "text/html": [
       "<div>\n",
       "<style scoped>\n",
       "    .dataframe tbody tr th:only-of-type {\n",
       "        vertical-align: middle;\n",
       "    }\n",
       "\n",
       "    .dataframe tbody tr th {\n",
       "        vertical-align: top;\n",
       "    }\n",
       "\n",
       "    .dataframe thead th {\n",
       "        text-align: right;\n",
       "    }\n",
       "</style>\n",
       "<table border=\"1\" class=\"dataframe\">\n",
       "  <thead>\n",
       "    <tr style=\"text-align: right;\">\n",
       "      <th></th>\n",
       "      <th>mpg</th>\n",
       "      <th>cylinders</th>\n",
       "      <th>displacement</th>\n",
       "      <th>horsepower</th>\n",
       "      <th>weight</th>\n",
       "      <th>acceleration</th>\n",
       "      <th>model year</th>\n",
       "      <th>origin</th>\n",
       "    </tr>\n",
       "  </thead>\n",
       "  <tbody>\n",
       "    <tr>\n",
       "      <th>count</th>\n",
       "      <td>392.000000</td>\n",
       "      <td>392.000000</td>\n",
       "      <td>392.000000</td>\n",
       "      <td>392.000000</td>\n",
       "      <td>392.000000</td>\n",
       "      <td>392.000000</td>\n",
       "      <td>392.000000</td>\n",
       "      <td>392.000000</td>\n",
       "    </tr>\n",
       "    <tr>\n",
       "      <th>mean</th>\n",
       "      <td>23.445918</td>\n",
       "      <td>5.471939</td>\n",
       "      <td>194.411990</td>\n",
       "      <td>104.469388</td>\n",
       "      <td>2977.584184</td>\n",
       "      <td>15.541327</td>\n",
       "      <td>75.979592</td>\n",
       "      <td>1.576531</td>\n",
       "    </tr>\n",
       "    <tr>\n",
       "      <th>std</th>\n",
       "      <td>7.805007</td>\n",
       "      <td>1.705783</td>\n",
       "      <td>104.644004</td>\n",
       "      <td>38.491160</td>\n",
       "      <td>849.402560</td>\n",
       "      <td>2.758864</td>\n",
       "      <td>3.683737</td>\n",
       "      <td>0.805518</td>\n",
       "    </tr>\n",
       "    <tr>\n",
       "      <th>min</th>\n",
       "      <td>9.000000</td>\n",
       "      <td>3.000000</td>\n",
       "      <td>68.000000</td>\n",
       "      <td>46.000000</td>\n",
       "      <td>1613.000000</td>\n",
       "      <td>8.000000</td>\n",
       "      <td>70.000000</td>\n",
       "      <td>1.000000</td>\n",
       "    </tr>\n",
       "    <tr>\n",
       "      <th>25%</th>\n",
       "      <td>17.000000</td>\n",
       "      <td>4.000000</td>\n",
       "      <td>105.000000</td>\n",
       "      <td>75.000000</td>\n",
       "      <td>2225.250000</td>\n",
       "      <td>13.775000</td>\n",
       "      <td>73.000000</td>\n",
       "      <td>1.000000</td>\n",
       "    </tr>\n",
       "    <tr>\n",
       "      <th>50%</th>\n",
       "      <td>22.750000</td>\n",
       "      <td>4.000000</td>\n",
       "      <td>151.000000</td>\n",
       "      <td>93.500000</td>\n",
       "      <td>2803.500000</td>\n",
       "      <td>15.500000</td>\n",
       "      <td>76.000000</td>\n",
       "      <td>1.000000</td>\n",
       "    </tr>\n",
       "    <tr>\n",
       "      <th>75%</th>\n",
       "      <td>29.000000</td>\n",
       "      <td>8.000000</td>\n",
       "      <td>275.750000</td>\n",
       "      <td>126.000000</td>\n",
       "      <td>3614.750000</td>\n",
       "      <td>17.025000</td>\n",
       "      <td>79.000000</td>\n",
       "      <td>2.000000</td>\n",
       "    </tr>\n",
       "    <tr>\n",
       "      <th>max</th>\n",
       "      <td>46.600000</td>\n",
       "      <td>8.000000</td>\n",
       "      <td>455.000000</td>\n",
       "      <td>230.000000</td>\n",
       "      <td>5140.000000</td>\n",
       "      <td>24.800000</td>\n",
       "      <td>82.000000</td>\n",
       "      <td>3.000000</td>\n",
       "    </tr>\n",
       "  </tbody>\n",
       "</table>\n",
       "</div>"
      ],
      "text/plain": [
       "              mpg   cylinders  displacement  horsepower       weight  \\\n",
       "count  392.000000  392.000000    392.000000  392.000000   392.000000   \n",
       "mean    23.445918    5.471939    194.411990  104.469388  2977.584184   \n",
       "std      7.805007    1.705783    104.644004   38.491160   849.402560   \n",
       "min      9.000000    3.000000     68.000000   46.000000  1613.000000   \n",
       "25%     17.000000    4.000000    105.000000   75.000000  2225.250000   \n",
       "50%     22.750000    4.000000    151.000000   93.500000  2803.500000   \n",
       "75%     29.000000    8.000000    275.750000  126.000000  3614.750000   \n",
       "max     46.600000    8.000000    455.000000  230.000000  5140.000000   \n",
       "\n",
       "       acceleration  model year      origin  \n",
       "count    392.000000  392.000000  392.000000  \n",
       "mean      15.541327   75.979592    1.576531  \n",
       "std        2.758864    3.683737    0.805518  \n",
       "min        8.000000   70.000000    1.000000  \n",
       "25%       13.775000   73.000000    1.000000  \n",
       "50%       15.500000   76.000000    1.000000  \n",
       "75%       17.025000   79.000000    2.000000  \n",
       "max       24.800000   82.000000    3.000000  "
      ]
     },
     "execution_count": 5,
     "metadata": {},
     "output_type": "execute_result"
    }
   ],
   "source": [
    "mpg.describe()"
   ]
  },
  {
   "cell_type": "markdown",
   "id": "4eccde24-0423-4fcf-aa7e-8a445ad36d08",
   "metadata": {},
   "source": [
    ">__Task 2__\n",
    ">\n",
    ">Use \"mean+-2\\*sd\" rule to check outliers in weight and display the rows with outliers\n",
    ">\n",
    ">How do you suggest to handle the outliers at this point?"
   ]
  },
  {
   "cell_type": "code",
   "execution_count": null,
   "id": "671ead15-7a02-4f36-a7ea-ccdd2fdb1599",
   "metadata": {},
   "outputs": [],
   "source": [
    "..."
   ]
  },
  {
   "cell_type": "markdown",
   "id": "100af9f8-51e2-41ef-a0d1-547991449855",
   "metadata": {},
   "source": [
    ">__Task 3__\n",
    ">\n",
    ">Plot pairwise relationships of all features"
   ]
  },
  {
   "cell_type": "code",
   "execution_count": null,
   "id": "5d665396-ac0c-4b0f-8804-326224d91e7e",
   "metadata": {},
   "outputs": [],
   "source": [
    "..."
   ]
  },
  {
   "cell_type": "markdown",
   "id": "2a77aa94-fb5c-4f5d-bf6c-bacbf3a27cb1",
   "metadata": {
    "tags": []
   },
   "source": [
    "### Train/Test Split"
   ]
  },
  {
   "cell_type": "markdown",
   "id": "41b682a3-bf96-459e-bc53-7be44e9019d7",
   "metadata": {},
   "source": [
    ">__Task 4__\n",
    ">\n",
    ">- Assign the __mpg__ to `y` and the rest (except __car name__) to `X`\n",
    ">- Split with a 80(train):20(test) ratio and set 156 randomness\n",
    ">- Make sure your function returns `X_train`, `X_test`, `y_train`, `y_test`"
   ]
  },
  {
   "cell_type": "code",
   "execution_count": null,
   "id": "1deec587-37ca-49c5-aa99-9e239ced4086",
   "metadata": {},
   "outputs": [],
   "source": [
    "..."
   ]
  },
  {
   "cell_type": "markdown",
   "id": "effbb07a-19e6-4a8c-bef0-5f0281683bcf",
   "metadata": {},
   "source": [
    "## Decision Tree Regressor"
   ]
  },
  {
   "cell_type": "markdown",
   "id": "29107d0c-1b8d-494f-a8b4-fca882e56b7b",
   "metadata": {},
   "source": [
    ">__Task 5__\n",
    ">\n",
    ">- Initiate a decision-tree regressor, set tree depth to 2 and 156 randomness\n",
    ">- Print a text report showing the rules of tree\n",
    ">- Plot the tree"
   ]
  },
  {
   "cell_type": "code",
   "execution_count": null,
   "id": "61e2fcee-4a7b-4e96-93fa-c6741e1c7674",
   "metadata": {},
   "outputs": [],
   "source": [
    "..."
   ]
  },
  {
   "cell_type": "markdown",
   "id": "71e71a22-1b2a-49d5-89cd-d3dc3e556631",
   "metadata": {},
   "source": [
    "### Feature Importance"
   ]
  },
  {
   "cell_type": "markdown",
   "id": "72c090bf-6005-4845-903b-cb549a4b29f8",
   "metadata": {},
   "source": [
    ">__Task 6__\n",
    ">\n",
    ">- Map feature names to their importance scores\n",
    ">- Print and plot feature importance"
   ]
  },
  {
   "cell_type": "code",
   "execution_count": null,
   "id": "77397aea-1be9-477e-a6bb-b258808b4583",
   "metadata": {},
   "outputs": [],
   "source": [
    "..."
   ]
  },
  {
   "cell_type": "markdown",
   "id": "54962d15-8af6-497c-b214-64f910e66784",
   "metadata": {},
   "source": [
    "### Performance Evaluation"
   ]
  },
  {
   "cell_type": "markdown",
   "id": "393a3d60-04cd-498a-900b-585af8919aeb",
   "metadata": {},
   "source": [
    ">__Task 7__\n",
    ">\n",
    ">- Predict the first 10 prices on test set\n",
    ">- Calculate the mean squared error (MSE) and R-squared of the model"
   ]
  },
  {
   "cell_type": "code",
   "execution_count": null,
   "id": "030639b1-4bd5-46dc-8ebb-dfe1eacc5d0a",
   "metadata": {},
   "outputs": [],
   "source": [
    "..."
   ]
  },
  {
   "cell_type": "markdown",
   "id": "d591c03f-0282-4638-be06-a2738456c41c",
   "metadata": {},
   "source": [
    "### The Best Performing Depth"
   ]
  },
  {
   "cell_type": "markdown",
   "id": "b9447fc7-caaf-4804-8d62-8e5d2717fa81",
   "metadata": {},
   "source": [
    ">__Task 8__\n",
    ">\n",
    ">Find the depth that maximizes accuracy\n",
    ">\n",
    ">- Fill in a for loop that iterates over the `k` argument\n",
    ">- Initiate the model with `max_depth=k`\n",
    ">- Fit the model on train set\n",
    ">- Predict on both train and test sets\n",
    ">- Calculate MSE by comparing the predictions with `y_train` and `y_test` respectively\n",
    ">- Plot the results\n",
    ">- Print the best performing depth and its MSE"
   ]
  },
  {
   "cell_type": "code",
   "execution_count": null,
   "id": "59fd9aaf-c6ca-438d-9127-b0d24eef1683",
   "metadata": {},
   "outputs": [],
   "source": [
    "..."
   ]
  },
  {
   "cell_type": "markdown",
   "id": "baf96a7f-87bd-4cca-95a7-fea5176bc7fb",
   "metadata": {},
   "source": [
    "---"
   ]
  },
  {
   "cell_type": "markdown",
   "id": "7612a8c1-0d30-40a5-9cd0-7a9a4f39597d",
   "metadata": {},
   "source": [
    "## Ensemble Methods"
   ]
  },
  {
   "cell_type": "markdown",
   "id": "6620b8b9-5ee4-4321-a6d6-0c53a79efdca",
   "metadata": {},
   "source": [
    "### Bagging"
   ]
  },
  {
   "cell_type": "markdown",
   "id": "3b530ac6-713d-412c-a1ff-0db741eceeaa",
   "metadata": {},
   "source": [
    ">__Task 9__\n",
    ">\n",
    ">Build a bagging model for regression task\n",
    ">\n",
    ">- Set 100 base estimators and 156 randomness\n",
    ">- Calculate MSE and R-squared on test set"
   ]
  },
  {
   "cell_type": "code",
   "execution_count": null,
   "id": "1aad217a-c64f-4d57-ad4a-4e752b4cc1b3",
   "metadata": {},
   "outputs": [],
   "source": [
    "..."
   ]
  },
  {
   "cell_type": "markdown",
   "id": "6698040e-78b9-43e6-a8df-26e89092461b",
   "metadata": {},
   "source": [
    ">__Task 10__\n",
    ">\n",
    ">Fit different bagging models by changing `n_estimators` parameter in a loop\n",
    ">\n",
    ">- Set a range between 50 and 210 with a step of 10\n",
    ">- Initiate a bagging model with `n_estimators=n`and 156 randomness\n",
    ">- Fit the model to train pairs\n",
    ">- Predict values on test sets\n",
    ">- Add train MSE to `mse['train_mse']` and test MSE to `mse['test_mse']`\n",
    ">- Print the number of estimators and its MSE"
   ]
  },
  {
   "cell_type": "code",
   "execution_count": null,
   "id": "ab68aa05-0a1b-411d-a629-7ec69fec61f3",
   "metadata": {},
   "outputs": [],
   "source": [
    "..."
   ]
  },
  {
   "cell_type": "markdown",
   "id": "d1d9ad79-6049-4c09-acf8-5c76f8af3150",
   "metadata": {},
   "source": [
    "### Random Forest"
   ]
  },
  {
   "cell_type": "markdown",
   "id": "6ab8dfc5-1dd1-4262-9465-462374845460",
   "metadata": {},
   "source": [
    ">__Task 11__\n",
    ">\n",
    ">Build a random forest model for regression task\n",
    ">\n",
    ">- Set 100 base estimators, 30 features for split, 156 randomness\n",
    ">- Calculate MSE and R-squared on test set"
   ]
  },
  {
   "cell_type": "code",
   "execution_count": null,
   "id": "b14e518f-f8f7-4384-b142-04b56fdf9ffc",
   "metadata": {},
   "outputs": [],
   "source": [
    "..."
   ]
  },
  {
   "cell_type": "markdown",
   "id": "57341a24-295c-4fb2-a009-96cc75cd51bc",
   "metadata": {},
   "source": [
    ">__Task 12__\n",
    ">\n",
    ">Check feature importance of the random forest model and plot the results"
   ]
  },
  {
   "cell_type": "code",
   "execution_count": null,
   "id": "e7ef6fd8-ecdb-41c8-9bae-5df70979956b",
   "metadata": {},
   "outputs": [],
   "source": [
    "..."
   ]
  },
  {
   "cell_type": "markdown",
   "id": "152dbb4f-74c3-43bb-8cf8-d927a8c0de78",
   "metadata": {},
   "source": [
    ">__Task 13__\n",
    ">\n",
    ">Tune hyperparameter for the random forest model\n",
    ">\n",
    ">- Define the regressor with 156 randomness\n",
    ">- Define the parameter grid with:\n",
    ">     - `max_depth` range `(5,30,5)` \n",
    ">     - `n_estimators` range `(50,210,50)`\n",
    ">- Define the grid search with the parameter grid and set:\n",
    ">     - `neg_mean_absolute_error` as the evaluation score\n",
    ">     - `n_jobs=-1`\n",
    ">     - 5-fold cross-validation\n",
    ">     - `verbose=1`\n",
    ">     - `return_train_score=True`\n",
    ">- Fit the grid search to train set\n",
    ">- Print the best resulting parameters"
   ]
  },
  {
   "cell_type": "code",
   "execution_count": null,
   "id": "71378a36-b1d2-4bdf-80d1-90ef04ef47db",
   "metadata": {},
   "outputs": [],
   "source": [
    "..."
   ]
  },
  {
   "cell_type": "markdown",
   "id": "68ae90d6-dc7f-446c-8778-2c28532acb86",
   "metadata": {},
   "source": [
    ">__Task 14__\n",
    ">\n",
    ">Predict on test set using `.best_estimator_` and print MSE and R-squared of the tuned model"
   ]
  },
  {
   "cell_type": "code",
   "execution_count": null,
   "id": "0d2ddfc5-b1a0-472b-9347-ff5882093d68",
   "metadata": {},
   "outputs": [],
   "source": [
    "..."
   ]
  },
  {
   "cell_type": "markdown",
   "id": "a61ba341-4549-4b18-b2f1-253caeb3dc65",
   "metadata": {},
   "source": [
    "### Gradient Boosting"
   ]
  },
  {
   "cell_type": "markdown",
   "id": "90d73846-62a4-4a48-8829-cf817c8632d0",
   "metadata": {},
   "source": [
    ">__Task 15__\n",
    ">\n",
    ">Build a gradient boosting model for regression task\n",
    ">\n",
    ">- Set 0.01 learning rate, 30 base estimators, 5 features, 5 depth, and 156 randomness  \n",
    ">- Calculate MSE and R-squared on test set"
   ]
  },
  {
   "cell_type": "code",
   "execution_count": null,
   "id": "b7516cdf-96ab-4329-aad2-08e89a4cbbe9",
   "metadata": {},
   "outputs": [],
   "source": [
    "..."
   ]
  },
  {
   "cell_type": "markdown",
   "id": "ff8159ed-000c-48b8-a4c6-f93e0052b34d",
   "metadata": {},
   "source": [
    ">__Task 16__\n",
    ">\n",
    ">Find the best performing learning rate\n",
    ">\n",
    ">- Define the classifier with 156 randomness\n",
    ">- Define the parameter grid with:\n",
    ">     - `max_depth` range `(5,30,5)` \n",
    ">     - `n_estimators` range `(50,210,50)`\n",
    ">     - `learning_rate` range `(0.01,0.31,0.1)`\n",
    ">- Define the grid search with the parameter grid and set:\n",
    ">     - `neg_mean_absolute_error` as the evaluation score\n",
    ">     - `n_jobs=-1`\n",
    ">     - 5-fold cross-validation\n",
    ">     - `verbose=1`\n",
    ">     - `return_train_score=True`\n",
    ">- Fit the grid search to train set\n",
    ">- Print the best resulting parameters"
   ]
  },
  {
   "cell_type": "code",
   "execution_count": null,
   "id": "667ee852-1bc2-43e8-ac45-deb0b1bda67e",
   "metadata": {},
   "outputs": [],
   "source": [
    "..."
   ]
  },
  {
   "cell_type": "markdown",
   "id": "6f134842-e9ed-4218-8b46-42094abafd76",
   "metadata": {},
   "source": [
    ">__Task 17__\n",
    ">\n",
    ">Predict on test set using `.best_estimator_` and print MSE and R-squared of the tuned model"
   ]
  },
  {
   "cell_type": "code",
   "execution_count": null,
   "id": "ea9a4151-cc1a-41c6-b558-70a8591645e1",
   "metadata": {},
   "outputs": [],
   "source": [
    "..."
   ]
  }
 ],
 "metadata": {
  "kernelspec": {
   "display_name": "Python 3",
   "language": "python",
   "name": "python3"
  },
  "language_info": {
   "codemirror_mode": {
    "name": "ipython",
    "version": 3
   },
   "file_extension": ".py",
   "mimetype": "text/x-python",
   "name": "python",
   "nbconvert_exporter": "python",
   "pygments_lexer": "ipython3",
   "version": "3.10.4"
  }
 },
 "nbformat": 4,
 "nbformat_minor": 5
}
